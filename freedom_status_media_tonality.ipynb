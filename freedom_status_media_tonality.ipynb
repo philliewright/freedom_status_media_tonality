{
  "cells": [
    {
      "cell_type": "markdown",
      "metadata": {
        "id": "view-in-github",
        "colab_type": "text"
      },
      "source": [
        "<a href=\"https://colab.research.google.com/github/philliewright/freedom_status_media_tonality/blob/main/freedom_status_media_tonality.ipynb\" target=\"_parent\"><img src=\"https://colab.research.google.com/assets/colab-badge.svg\" alt=\"Open In Colab\"/></a>"
      ]
    },
    {
      "cell_type": "markdown",
      "metadata": {
        "id": "rIOUm-cNepkQ"
      },
      "source": [
        "# Can we combine GDELT events data and Freedom House Data to predict whether news is positive or negative based on the country's freedom status and who the articles are about?\n",
        "\n",
        "## 1 Introduction\n",
        "\n",
        "Information in the world today has a hugr part to play in driving narratives and global politics and the media play a huge part in shaping these narratives. Media outlets, both independent and governemnt controlled have a huge influence on the people that engage with them. We want to investigate what factors makes up these narratives and wether the nature of these narratives can be predicted.\n",
        "\n",
        "Understanding this is an important step given the amount of control over narratives and public perceptions, the rise of dis/misinformation campaigns and the increased polarisation in politics. We believe a tool such as the one explored here, where we leverage big data and machine learning to understand patterns and correlations of news produced, could be instrumental in effectively understanding why global politics is in the state it is today and how it might look in the future.\n",
        "\n",
        "This project looks at how we can explore the tonality of the narratives on news based on parameters such as the freedom status of the country, the nature of the event, the subjects of the event and more. We belive that this could provide real time insights to governments and news outlets to understnad unerlying current events and perceptions across the world and how they are being spun and reported.\n",
        "\n",
        "## 2 Objectives\n",
        "The main objective of this project is to analyse whether there is a relationship between the freedom status of a country and the tonality of news articles produced depending on the type of event and countries involved.\n",
        "\n",
        "The freedom status is taken from Freedom House's Freedom Index [1] which categorises countries based on analysis of their political and civil rights. We also leverage a subset of the GDELT events dataset from Google BigQuery [2] which allows us to investigate the news narratives. We will use these to understand how entities and actors involced in an event can potentially influence the sentiment (tonality) of the news produced.\n",
        "\n",
        "Although this project is an academic one, it could ahve substantial real world value for Government and policy makers who can better understand how the news produced is influenced by the state of the country itself and could help with policy and decision making in the future. Perhaps one day helping to encourage a less polarised world than the one we live in today.\n",
        "\n",
        "## 3 Data\n",
        "The two datasets used are as follows\n",
        "\n",
        "1. **GDELT Events data:** The GDELT project is an archive of news and broadcasts from around the world which updated every 15 minutes. The data includes many features such as geographoical data, event codes, actors involved and url of the news source. These details allow for in depth analysis into global news production. Some features included are:\n",
        "  - **Actor Codes** which represent the primary and secondary actors involved in an event along with their roles. This could reveal how different actors are percieved in different countries/ media outlets\n",
        "  - **Geographical Coordinates** for both the events and the actors which could help uncover any regional bias or changes in news coverage\n",
        "  - **Event COdes** which categorise the nature of the events covered\n",
        "  - **News outlet country** is a feature created in the report based on the url of the news produced\n",
        "\n",
        "An example of the BigQuery query run is shown below, for Free Countries it was::\n",
        "``` free\n",
        "  SELECT *\n",
        "  FROM `gdelt-bq.gdeltv2.events`\n",
        "  WHERE (Actor1CountryCode IN (\n",
        "          'AND', 'ARG', 'AUS', 'AUT', 'BHS', 'BRB',\n",
        "          'BEL', 'BLZ', 'BWA', 'BRA', 'CAN', 'CHL', 'CHN',\n",
        "          'CRI', 'HRV', 'CYP', 'CZE', 'DNK', 'DMA',\n",
        "          'EST', 'FJI', 'FIN', 'FRA', 'DEU', 'GRC', 'GRD',\n",
        "          'GUY', 'HUN', 'ISL', 'IRL', 'ISR', 'ITA', 'JAM',\n",
        "          'JPN', 'KIR', 'LVA', 'LBR', 'LTU', 'LUX', 'MLT',\n",
        "          'MHL', 'MUS', 'FSM', 'MCO', 'MNG', 'NLD', 'NZL',\n",
        "          'NOR', 'PLW', 'PAN', 'PNG', 'PRY', 'PER', 'PHL',\n",
        "          'POL', 'PRT', 'RWA', 'WSM', 'SMR', 'STP', 'SYC',\n",
        "          'SGP', 'SVK', 'SVN', 'SLB', 'ZAF', 'KOR', 'ESP',\n",
        "          'SWE', 'CHE', 'TWN', 'TLS', 'TON', 'TTO', 'TUV',\n",
        "          'GBR', 'USA', 'URY', 'VUT'\n",
        "      )\n",
        "  )\n",
        "\n",
        "  AND Actor2CountryCode IS NOT NULL\n",
        "  LIMIT 50000;\n",
        "\n",
        "```  \n",
        "You can access the data via the HDFS code below on Lena or use the data saved here: https://drive.google.com/drive/folders/1Q9eQHTF6wpk3rKiMMXP6YnCbQXkQ9B5C?usp=sharing\n",
        "\n",
        "2. **Freedom House Data** This is an annual report intent on understnading the freedom status of countries by categorising them into 3 groups 'free', 'partially free' and 'not free'. We are aiming to combine this dataset with the Big Data from GDELT in order to examine the intricacies of news tonality and its potential correlation with the freedom status of a country.\n",
        "\n",
        "## 3 Hypotheses\n",
        "We have one main hypotheses for this piece of work. This is the hypothesis is that there is a significant relationship between the freedom status of a country and the tonality of news articles about events happening in that country. We will look to explore whether news articles tend to be more positive or negative based on the freedom status of the region they are from.\n",
        "\n",
        "\n",
        "## 4 Planned Analysis\n",
        "\n",
        "The planned analysis aimst to analyse and understand these datasets and eventually use these for advacned machine learning. After data preprocessing and cleaning, we intend to perform exploratory data analysis (EDA) to discern trends, distributions, and correlations within the data. This phase will help to in identifying event categories that display consistent associations with certain freedom statuses.\n",
        "\n",
        "Subsequently, we will implement machine learning techniques to predict freedom status based on event features. Logistic Regression and Boosted classification models will be trained and evaluated, providing a framework to gauge the predictive power of the event data in determining a country's freedom classification.\n"
      ]
    },
    {
      "cell_type": "markdown",
      "source": [
        "# 5 Why HDFS and Spark?\n",
        "\n",
        "It was decided to use HDFS and Apache Spark for this Project (when possible). This is becasue HDFS facilitates both efficient data storage for Big Datasets such as GDELT but it also has scalable architechture which can be leveraged for if this project was to upscale. The distributed environemnt breaks down the large datasets into chunks which are 'distributed' across multiple machines. This means that even if we were to significantly upscale this project, the performance levels can be maintained and the reliability and data integraty kept.\n",
        "\n",
        "Apache Spark uses in-memory computing to speed up the analytical tasks involved. This allows us to keep a fast rate of analysing compared to other methods with YARN manging the computing resources to ensure there is minimal waste. Spark's Machine Learning library, MLlib is used in our data which has a wide range of algorthms built in.\n",
        "\n",
        "Using HDFS and Spark alongside yarn means we can leverage the Hadoop computing power with the performance optimisation though spark especially for the computationally expensive tasks such as Principle Component Analysis, especially with as high dimensions as this dataset has. All of this ensures a scalable, reliable, and efficient data pipeline.\n",
        "\n",
        "# 6 Imports, Retrieving the data and Initialising Spark\n",
        "\n",
        "Due to technical issues on the Lena server, I was unable to access the Lena cluster for an extended period of time therefore my work was conducted using Google Colab. However, had I been able to access the cluster I would have imported the data from HDFS and utilized the following code:\n",
        "```\n",
        "# Initialising the Spark Session\n",
        "spark = SparkSession.builder.appName(\"Freedom House and GDELT ML Project\").master(\"yarn\").getOrCreate()\n",
        "\n",
        "# Loading GDELT data\n",
        "\n",
        "gdelt_free_df = spark.read.csv(\"hdfs://lena/user/pwrig001/FREE_GDELT.csv\", header=True, inferSchema=True)\n",
        "not_free_gdelt_df = spark.read.csv(\"hdfs://lena/user/pwrig001/NOT_FREE_GDELT.csv\", header=True, inferSchema=True)\n",
        "partially_free_df = spark.read.csv(\"hdfs://lena/user/pwrig001/PARTIALLY_FREE_GDELT.csv\", header=True, inferSchema=True)\n",
        "\n",
        "# Union the three DataFrames into a single DataFrame\n",
        "all_gdelt_df = gdelt_free_df.union(not_free_gdelt_df).union(partially_free_df)\n",
        "\n",
        "# Load Freedom House data\n",
        "freedom_house_df = spark.read.csv(\"hdfs://lena/user/pwrig001/FINAL-FIW13-23_with_CAMEO.csv\", header=True, inferSchema=True)\n",
        "\n",
        "\n",
        "freedom_house_df.printSchema()\n",
        "all_gdelt_df.printSchema()\n",
        "```\n",
        "\n",
        "To proceed with this method please copy and paste this code to replace the Google Colab code below, the data is loaded into the HDFS path provided. Alternatively the data is provided within the zip file.\n",
        "\n",
        "\n"
      ],
      "metadata": {
        "id": "E84ZksRw-8Rk"
      }
    },
    {
      "cell_type": "code",
      "source": [
        "from google.colab import drive\n",
        "drive.mount('/content/drive')"
      ],
      "metadata": {
        "colab": {
          "base_uri": "https://localhost:8080/"
        },
        "id": "NsPUR4qKexUj",
        "outputId": "dea4ec3c-ff33-4f90-e504-ffcf968d118f"
      },
      "execution_count": 2,
      "outputs": [
        {
          "output_type": "stream",
          "name": "stdout",
          "text": [
            "Mounted at /content/drive\n"
          ]
        }
      ]
    },
    {
      "cell_type": "code",
      "source": [
        "!pip install pyspark\n",
        "!pip install tldextract"
      ],
      "metadata": {
        "colab": {
          "base_uri": "https://localhost:8080/"
        },
        "id": "xbDhQ2TefvOp",
        "outputId": "ae512244-7aa1-455d-aea8-774b80f0b093"
      },
      "execution_count": 3,
      "outputs": [
        {
          "output_type": "stream",
          "name": "stdout",
          "text": [
            "Collecting pyspark\n",
            "  Downloading pyspark-3.5.0.tar.gz (316.9 MB)\n",
            "\u001b[2K     \u001b[90m━━━━━━━━━━━━━━━━━━━━━━━━━━━━━━━━━━━━━━━━\u001b[0m \u001b[32m316.9/316.9 MB\u001b[0m \u001b[31m3.8 MB/s\u001b[0m eta \u001b[36m0:00:00\u001b[0m\n",
            "\u001b[?25h  Preparing metadata (setup.py) ... \u001b[?25l\u001b[?25hdone\n",
            "Requirement already satisfied: py4j==0.10.9.7 in /usr/local/lib/python3.10/dist-packages (from pyspark) (0.10.9.7)\n",
            "Building wheels for collected packages: pyspark\n",
            "  Building wheel for pyspark (setup.py) ... \u001b[?25l\u001b[?25hdone\n",
            "  Created wheel for pyspark: filename=pyspark-3.5.0-py2.py3-none-any.whl size=317425345 sha256=b329f324df95b349e696b94ff4f75b480302c1f5195a27bbc8c2f67afc37480d\n",
            "  Stored in directory: /root/.cache/pip/wheels/41/4e/10/c2cf2467f71c678cfc8a6b9ac9241e5e44a01940da8fbb17fc\n",
            "Successfully built pyspark\n",
            "Installing collected packages: pyspark\n",
            "Successfully installed pyspark-3.5.0\n",
            "Collecting tldextract\n",
            "  Downloading tldextract-5.1.1-py3-none-any.whl (97 kB)\n",
            "\u001b[2K     \u001b[90m━━━━━━━━━━━━━━━━━━━━━━━━━━━━━━━━━━━━━━━━\u001b[0m \u001b[32m97.7/97.7 kB\u001b[0m \u001b[31m3.0 MB/s\u001b[0m eta \u001b[36m0:00:00\u001b[0m\n",
            "\u001b[?25hRequirement already satisfied: idna in /usr/local/lib/python3.10/dist-packages (from tldextract) (3.6)\n",
            "Requirement already satisfied: requests>=2.1.0 in /usr/local/lib/python3.10/dist-packages (from tldextract) (2.31.0)\n",
            "Collecting requests-file>=1.4 (from tldextract)\n",
            "  Downloading requests_file-1.5.1-py2.py3-none-any.whl (3.7 kB)\n",
            "Requirement already satisfied: filelock>=3.0.8 in /usr/local/lib/python3.10/dist-packages (from tldextract) (3.13.1)\n",
            "Requirement already satisfied: charset-normalizer<4,>=2 in /usr/local/lib/python3.10/dist-packages (from requests>=2.1.0->tldextract) (3.3.2)\n",
            "Requirement already satisfied: urllib3<3,>=1.21.1 in /usr/local/lib/python3.10/dist-packages (from requests>=2.1.0->tldextract) (2.0.7)\n",
            "Requirement already satisfied: certifi>=2017.4.17 in /usr/local/lib/python3.10/dist-packages (from requests>=2.1.0->tldextract) (2023.11.17)\n",
            "Requirement already satisfied: six in /usr/local/lib/python3.10/dist-packages (from requests-file>=1.4->tldextract) (1.16.0)\n",
            "Installing collected packages: requests-file, tldextract\n",
            "Successfully installed requests-file-1.5.1 tldextract-5.1.1\n"
          ]
        }
      ]
    },
    {
      "cell_type": "code",
      "source": [
        "from pyspark.sql import SparkSession  # Initiates a SparkSession\n",
        "from pyspark.sql import Row  # Allows creating rows of data to be parallelised into a DataFrame\n",
        "from pyspark.sql import functions as F  # Provides access to a wide array of SQL functions to operate on DataFrames\n",
        "from pyspark.sql.functions import udf, col, count, when, desc, countDistinct  # SQL functions to operate on columns of a DataFrame\n",
        "from pyspark.sql.types import StringType, StructType, StructField, IntegerType, DoubleType  # To define schema of Dfs\n",
        "from pyspark.ml import Pipeline  # For ML pipelines to streamline the training process\n",
        "from pyspark.ml.feature import StringIndexer, OneHotEncoder, VectorAssembler, StandardScaler, PCA  # Feature engineering transfofrmations\n",
        "from pyspark.ml.classification import RandomForestClassifier, LogisticRegression, GBTClassifier  # ML algorithms for classification tasks\n",
        "from pyspark.ml.linalg import DenseVector  # Allows creating dense vectors, which are needed in MLlib\n",
        "from pyspark.ml.functions import vector_to_array  # Function to convert a vector to an array\n",
        "from pyspark.ml.evaluation import BinaryClassificationEvaluator, MulticlassClassificationEvaluator  # Evaluators for performance metrics\n",
        "from pyspark.ml.tuning import CrossValidator, ParamGridBuilder  # Hyperparameter tuning and cross-validation\n",
        "import tldextract  # For extracting domain parts from URLs\n",
        "import matplotlib.pyplot as plt  # For plotting and visualization of data\n"
      ],
      "metadata": {
        "id": "vrNgaIu2HYFe"
      },
      "execution_count": 4,
      "outputs": []
    },
    {
      "cell_type": "markdown",
      "metadata": {
        "id": "0SEkyzcqepkZ"
      },
      "source": [
        "## Initialise Spark"
      ]
    },
    {
      "cell_type": "markdown",
      "metadata": {
        "id": "YVTOHdGIepkd"
      },
      "source": [
        "## 7 Joining Freedom and GDELT, add international/domestic column\n",
        "\n",
        "Here we are joining the two datasets based on their CAMEO Code (country code) and creating a new feature 'Dom/Int' detailing if the event taking place is a Domestic event (Actor 1 country is the same as Actor 2) or an International event (Actor 1 and 2 countries are different)"
      ]
    },
    {
      "cell_type": "markdown",
      "source": [
        "# 8 Extracting the country and News Oulet from the URL\n",
        "\n",
        "Two other features were deemed to be important to make for this project. The country and news outlet for the news produced. This is to effectively extract the relationship between the location of the news source and the tonality."
      ],
      "metadata": {
        "id": "DyDKNFeJDRvg"
      }
    },
    {
      "cell_type": "code",
      "source": [
        "import tldextract\n",
        "from pyspark.sql import SparkSession\n",
        "from pyspark.sql.functions import col, when\n",
        "from pyspark.sql.functions import udf\n",
        "from pyspark.sql.types import StringType\n",
        "\n",
        "class NewsDataAnalyzer:\n",
        "    def __init__(self, app_name, data_paths):\n",
        "        self.spark = self._initialize_spark(app_name)\n",
        "        self.data_paths = data_paths\n",
        "\n",
        "        # Register UDFs\n",
        "        self.udf_extract_news_outlet = udf(self.extract_news_outlet, StringType())\n",
        "        self.udf_extract_country = udf(self.extract_country, StringType())\n",
        "\n",
        "    @staticmethod\n",
        "    def _initialize_spark(app_name):\n",
        "        return SparkSession.builder.appName(app_name).getOrCreate()\n",
        "\n",
        "    @staticmethod\n",
        "    def extract_news_outlet(url):\n",
        "        extracted = tldextract.extract(url)\n",
        "        return extracted.domain\n",
        "\n",
        "    @staticmethod\n",
        "    def extract_country(url):\n",
        "        extracted = tldextract.extract(url)\n",
        "        return extracted.suffix\n",
        "\n",
        "    def load_data(self):\n",
        "        self.gdelt_free_df = self.spark.read.csv(self.data_paths['free_gdelt'], header=True, inferSchema=True)\n",
        "        self.not_free_gdelt_df = self.spark.read.csv(self.data_paths['not_free_gdelt'], header=True, inferSchema=True)\n",
        "        self.partially_free_df = self.spark.read.csv(self.data_paths['partially_free_gdelt'], header=True, inferSchema=True)\n",
        "        self.all_gdelt_df = self.gdelt_free_df.union(self.not_free_gdelt_df).union(self.partially_free_df)\n",
        "        self.freedom_house_df = self.spark.read.csv(self.data_paths['freedom_house'], header=True, inferSchema=True)\n",
        "\n",
        "    def process_data(self):\n",
        "        # Joining Freedom House DataFrame\n",
        "        freedom_house_selected = self.freedom_house_df.select(['CAMEO_Code', 'Country/Territory', 'Status', 'Total'])\n",
        "        gdelt_freedom_df = self.all_gdelt_df.join(freedom_house_selected,\n",
        "                                                  self.all_gdelt_df.Actor1CountryCode == freedom_house_selected.CAMEO_Code,\n",
        "                                                  'inner')\n",
        "\n",
        "        # Adding the 'Dom/Int' column\n",
        "        final_df = gdelt_freedom_df.withColumn(\n",
        "            'Dom/Int',\n",
        "            when(col('Actor1CountryCode') == col('Actor2CountryCode'), 'Domestic')\n",
        "            .when(col('Actor2CountryCode').isNull(), 'Unknown')\n",
        "            .otherwise('International')\n",
        "        )\n",
        "\n",
        "        # Apply UDFs to SOURCEURL and create new columns\n",
        "        gdelt_freedom_df_with_url = final_df.withColumn(\n",
        "            'NewsOutlet', self.udf_extract_news_outlet(final_df['SOURCEURL'])\n",
        "        ).withColumn(\n",
        "            'NewsOutletCountry', self.udf_extract_country(final_df['SOURCEURL'])\n",
        "        )\n",
        "\n",
        "        return gdelt_freedom_df_with_url\n",
        "\n",
        "# Usage\n",
        "data_paths = {\n",
        "    'free_gdelt': '/content/drive/My Drive/MSc/BigData010/FREE_GDELT.csv',\n",
        "    'not_free_gdelt': '/content/drive/My Drive/MSc/BigData010/NOT_FREE_GDELT.csv',\n",
        "    'partially_free_gdelt': '/content/drive/My Drive/MSc/BigData010/PARTIALLY_FREE_GDELT.csv',\n",
        "    'freedom_house': '/content/drive/My Drive/MSc/BigData010/FINAL-FIW13-23_with_CAMEO.csv'\n",
        "}\n",
        "\n",
        "analyzer = NewsDataAnalyzer(\"Freedom House and GDELT ML Project\", data_paths)\n",
        "analyzer.load_data()\n",
        "processed_data = analyzer.process_data()\n",
        "\n",
        "processed_data.show(n=1, vertical=True)\n"
      ],
      "metadata": {
        "colab": {
          "base_uri": "https://localhost:8080/"
        },
        "id": "PeiSUFAxAD3X",
        "outputId": "2492c620-7fbe-4520-df0b-c36ca68fb42c"
      },
      "execution_count": 7,
      "outputs": [
        {
          "output_type": "stream",
          "name": "stdout",
          "text": [
            "-RECORD 0-------------------------------------\n",
            " GLOBALEVENTID         | 499531991            \n",
            " SQLDATE               | 20160105             \n",
            " MonthYear             | 201601               \n",
            " Year                  | 2016                 \n",
            " FractionDate          | 2016.0137            \n",
            " Actor1Code            | MNCUSA               \n",
            " Actor1Name            | HASBRO               \n",
            " Actor1CountryCode     | USA                  \n",
            " Actor1KnownGroupCode  | NULL                 \n",
            " Actor1EthnicCode      | NULL                 \n",
            " Actor1Religion1Code   | NULL                 \n",
            " Actor1Religion2Code   | NULL                 \n",
            " Actor1Type1Code       | MNC                  \n",
            " Actor1Type2Code       | NULL                 \n",
            " Actor1Type3Code       | NULL                 \n",
            " Actor2Code            | LBY                  \n",
            " Actor2Name            | BENGHAZI             \n",
            " Actor2CountryCode     | LBY                  \n",
            " Actor2KnownGroupCode  | NULL                 \n",
            " Actor2EthnicCode      | NULL                 \n",
            " Actor2Religion1Code   | NULL                 \n",
            " Actor2Religion2Code   | NULL                 \n",
            " Actor2Type1Code       | NULL                 \n",
            " Actor2Type2Code       | NULL                 \n",
            " Actor2Type3Code       | NULL                 \n",
            " IsRootEvent           | 1                    \n",
            " EventCode             | 43                   \n",
            " EventBaseCode         | 43                   \n",
            " EventRootCode         | 4                    \n",
            " QuadClass             | 1                    \n",
            " GoldsteinScale        | 2.8                  \n",
            " NumMentions           | 10                   \n",
            " NumSources            | 1                    \n",
            " NumArticles           | 10                   \n",
            " AvgTone               | 1.53256704980843     \n",
            " Actor1Geo_Type        | 0                    \n",
            " Actor1Geo_FullName    | NULL                 \n",
            " Actor1Geo_CountryCode | NULL                 \n",
            " Actor1Geo_ADM1Code    | NULL                 \n",
            " Actor1Geo_ADM2Code    | NULL                 \n",
            " Actor1Geo_Lat         | NULL                 \n",
            " Actor1Geo_Long        | NULL                 \n",
            " Actor1Geo_FeatureID   | NULL                 \n",
            " Actor2Geo_Type        | 0                    \n",
            " Actor2Geo_FullName    | NULL                 \n",
            " Actor2Geo_CountryCode | NULL                 \n",
            " Actor2Geo_ADM1Code    | NULL                 \n",
            " Actor2Geo_ADM2Code    | NULL                 \n",
            " Actor2Geo_Lat         | NULL                 \n",
            " Actor2Geo_Long        | NULL                 \n",
            " Actor2Geo_FeatureID   | NULL                 \n",
            " ActionGeo_Type        | 0                    \n",
            " ActionGeo_FullName    | NULL                 \n",
            " ActionGeo_CountryCode | NULL                 \n",
            " ActionGeo_ADM1Code    | NULL                 \n",
            " ActionGeo_ADM2Code    | NULL                 \n",
            " ActionGeo_Lat         | NULL                 \n",
            " ActionGeo_Long        | NULL                 \n",
            " ActionGeo_FeatureID   | NULL                 \n",
            " DATEADDED             | 20160105124500       \n",
            " SOURCEURL             | http://omelete.uo... \n",
            " CAMEO_Code            | USA                  \n",
            " Country/Territory     | United States        \n",
            " Status                | F                    \n",
            " Total                 | 93                   \n",
            " Dom/Int               | International        \n",
            " NewsOutlet            | uol                  \n",
            " NewsOutletCountry     | com.br               \n",
            "only showing top 1 row\n",
            "\n"
          ]
        }
      ]
    },
    {
      "cell_type": "code",
      "execution_count": 9,
      "metadata": {
        "colab": {
          "base_uri": "https://localhost:8080/"
        },
        "id": "aJC0VgT3epkf",
        "outputId": "15e3fcce-bf02-47e3-b56a-7058ee3f1dfa"
      },
      "outputs": [
        {
          "output_type": "execute_result",
          "data": {
            "text/plain": [
              "[Row(GLOBALEVENTID=499531991, SQLDATE=20160105, MonthYear=201601, Year=2016, FractionDate=2016.0137, Actor1Code='MNCUSA', Actor1Name='HASBRO', Actor1CountryCode='USA', Actor1KnownGroupCode=None, Actor1EthnicCode=None, Actor1Religion1Code=None, Actor1Religion2Code=None, Actor1Type1Code='MNC', Actor1Type2Code=None, Actor1Type3Code=None, Actor2Code='LBY', Actor2Name='BENGHAZI', Actor2CountryCode='LBY', Actor2KnownGroupCode=None, Actor2EthnicCode=None, Actor2Religion1Code=None, Actor2Religion2Code=None, Actor2Type1Code=None, Actor2Type2Code=None, Actor2Type3Code=None, IsRootEvent=1, EventCode=43, EventBaseCode=43, EventRootCode=4, QuadClass=1, GoldsteinScale=2.8, NumMentions=10, NumSources=1, NumArticles=10, AvgTone=1.53256704980843, Actor1Geo_Type=0, Actor1Geo_FullName=None, Actor1Geo_CountryCode=None, Actor1Geo_ADM1Code=None, Actor1Geo_ADM2Code=None, Actor1Geo_Lat=None, Actor1Geo_Long=None, Actor1Geo_FeatureID=None, Actor2Geo_Type=0, Actor2Geo_FullName=None, Actor2Geo_CountryCode=None, Actor2Geo_ADM1Code=None, Actor2Geo_ADM2Code=None, Actor2Geo_Lat=None, Actor2Geo_Long=None, Actor2Geo_FeatureID=None, ActionGeo_Type=0, ActionGeo_FullName=None, ActionGeo_CountryCode=None, ActionGeo_ADM1Code=None, ActionGeo_ADM2Code=None, ActionGeo_Lat=None, ActionGeo_Long=None, ActionGeo_FeatureID=None, DATEADDED=20160105124500, SOURCEURL='http://omelete.uol.com.br/filmes/noticia/transformers-5-michael-bay-confirma-que-vai-dirigir-o-filme/', CAMEO_Code='USA', Country/Territory='United States', Status='F', Total=93, Dom/Int='International', NewsOutlet='uol', NewsOutletCountry='com.br')]"
            ]
          },
          "metadata": {},
          "execution_count": 9
        }
      ],
      "source": [
        "processed_data.head(1)"
      ]
    },
    {
      "cell_type": "markdown",
      "metadata": {
        "id": "3_VZwyReepkg"
      },
      "source": [
        "### Drop Duplicate Rows"
      ]
    },
    {
      "cell_type": "code",
      "execution_count": 10,
      "metadata": {
        "colab": {
          "base_uri": "https://localhost:8080/"
        },
        "id": "mCnnIkBvepkg",
        "outputId": "ac21ea57-7a11-4305-8eda-5954375fdb0e"
      },
      "outputs": [
        {
          "output_type": "stream",
          "name": "stdout",
          "text": [
            "Number of rows after dropping duplicates: 145483\n"
          ]
        }
      ],
      "source": [
        "\n",
        "# Drop duplicate rows based on the 'GLOBALEVENTID' column\n",
        "processed_data = processed_data.dropDuplicates(['GLOBALEVENTID'])\n",
        "\n",
        "# Count the number of rows after dropping duplicates\n",
        "row_count_after_dropping_duplicates = processed_data.count()\n",
        "print(f\"Number of rows after dropping duplicates: {row_count_after_dropping_duplicates}\")\n"
      ]
    },
    {
      "cell_type": "code",
      "execution_count": null,
      "metadata": {
        "id": "eSJb7RD4epkg"
      },
      "outputs": [],
      "source": []
    },
    {
      "cell_type": "markdown",
      "metadata": {
        "id": "6XupSztCepkg"
      },
      "source": [
        "## Filtering for legitimate News Outlet Countries\n",
        "\n",
        "We used known tlds for each county to examine the legitimate and succesful extractions."
      ]
    },
    {
      "cell_type": "code",
      "execution_count": 11,
      "metadata": {
        "colab": {
          "base_uri": "https://localhost:8080/"
        },
        "id": "l0TeOmiUepkh",
        "outputId": "bca080e3-1e4e-4fbc-a765-53034cc887b7"
      },
      "outputs": [
        {
          "output_type": "stream",
          "name": "stdout",
          "text": [
            "+-----------------+\n",
            "|Actor1CountryCode|\n",
            "+-----------------+\n",
            "|HTI              |\n",
            "|POL              |\n",
            "|LVA              |\n",
            "|BRB              |\n",
            "|JAM              |\n",
            "|BRA              |\n",
            "|ARM              |\n",
            "|MOZ              |\n",
            "|JOR              |\n",
            "|CUB              |\n",
            "|FRA              |\n",
            "|SOM              |\n",
            "|BRN              |\n",
            "|FSM              |\n",
            "|URY              |\n",
            "|BOL              |\n",
            "|LBY              |\n",
            "|ETH              |\n",
            "|GNQ              |\n",
            "|UKR              |\n",
            "|ITA              |\n",
            "|CMR              |\n",
            "|NER              |\n",
            "|GTM              |\n",
            "|SEN              |\n",
            "|GUY              |\n",
            "|HRV              |\n",
            "|QAT              |\n",
            "|BHS              |\n",
            "|GBR              |\n",
            "|PRY              |\n",
            "|TON              |\n",
            "|CRI              |\n",
            "|TJK              |\n",
            "|ERI              |\n",
            "|NPL              |\n",
            "|UGA              |\n",
            "|VUT              |\n",
            "|AZE              |\n",
            "|AUS              |\n",
            "|MLI              |\n",
            "|MLT              |\n",
            "|PNG              |\n",
            "|AFG              |\n",
            "|BGD              |\n",
            "|DMA              |\n",
            "|YEM              |\n",
            "|MNG              |\n",
            "|SVK              |\n",
            "|SYC              |\n",
            "|STP              |\n",
            "|HUN              |\n",
            "|TKM              |\n",
            "|NZL              |\n",
            "|THA              |\n",
            "|DJI              |\n",
            "|NOR              |\n",
            "|IRQ              |\n",
            "|VEN              |\n",
            "|TUV              |\n",
            "|SAU              |\n",
            "|FIN              |\n",
            "|BWA              |\n",
            "|BFA              |\n",
            "|DOM              |\n",
            "|ALB              |\n",
            "|TGO              |\n",
            "|BHR              |\n",
            "|NIC              |\n",
            "|SSD              |\n",
            "|KWT              |\n",
            "|FJI              |\n",
            "|MRT              |\n",
            "|AND              |\n",
            "|PER              |\n",
            "|CAF              |\n",
            "|NLD              |\n",
            "|PAK              |\n",
            "|LUX              |\n",
            "|TUR              |\n",
            "|RWA              |\n",
            "|SLE              |\n",
            "|BDI              |\n",
            "|AUT              |\n",
            "|USA              |\n",
            "|MAR              |\n",
            "|SDN              |\n",
            "|OMN              |\n",
            "|VNM              |\n",
            "|PAN              |\n",
            "|LBR              |\n",
            "|KOR              |\n",
            "|ZAF              |\n",
            "|BTN              |\n",
            "|ISR              |\n",
            "|PRT              |\n",
            "|NAM              |\n",
            "|LTU              |\n",
            "|CYP              |\n",
            "|TWN              |\n",
            "|ZWE              |\n",
            "|CHL              |\n",
            "|MHL              |\n",
            "|MUS              |\n",
            "|CAN              |\n",
            "|RUS              |\n",
            "|KIR              |\n",
            "|ARG              |\n",
            "|BLZ              |\n",
            "|DNK              |\n",
            "|SWZ              |\n",
            "|TTO              |\n",
            "|ESP              |\n",
            "|KEN              |\n",
            "|WSM              |\n",
            "|MDV              |\n",
            "|LBN              |\n",
            "|EST              |\n",
            "|AGO              |\n",
            "|SLB              |\n",
            "|IRL              |\n",
            "|SWE              |\n",
            "|NGA              |\n",
            "|GAB              |\n",
            "|HND              |\n",
            "|SLV              |\n",
            "|GRD              |\n",
            "|GRC              |\n",
            "|SYR              |\n",
            "|GIN              |\n",
            "|SGP              |\n",
            "|IND              |\n",
            "|KAZ              |\n",
            "|TCD              |\n",
            "|KHM              |\n",
            "|MMR              |\n",
            "|BEL              |\n",
            "|MKD              |\n",
            "|CHN              |\n",
            "|IDN              |\n",
            "|DEU              |\n",
            "|DZA              |\n",
            "|UZB              |\n",
            "|MCO              |\n",
            "|JPN              |\n",
            "|SRB              |\n",
            "|TZA              |\n",
            "|PLW              |\n",
            "|KGZ              |\n",
            "|LAO              |\n",
            "|CHE              |\n",
            "|PHL              |\n",
            "|CZE              |\n",
            "|EGY              |\n",
            "|ISL              |\n",
            "+-----------------+\n",
            "\n",
            "+-----------------+\n",
            "|Actor2CountryCode|\n",
            "+-----------------+\n",
            "|PSE              |\n",
            "|HTI              |\n",
            "|POL              |\n",
            "|LVA              |\n",
            "|BRB              |\n",
            "|JAM              |\n",
            "|ZMB              |\n",
            "|BRA              |\n",
            "|ARM              |\n",
            "|MOZ              |\n",
            "|JOR              |\n",
            "|CUB              |\n",
            "|FRA              |\n",
            "|SOM              |\n",
            "|ABW              |\n",
            "|BRN              |\n",
            "|COD              |\n",
            "|FSM              |\n",
            "|BOL              |\n",
            "|URY              |\n",
            "|LBY              |\n",
            "|VAT              |\n",
            "|ETH              |\n",
            "|ATG              |\n",
            "|GNQ              |\n",
            "|UKR              |\n",
            "|ITA              |\n",
            "|CMR              |\n",
            "|GHA              |\n",
            "|NER              |\n",
            "|GTM              |\n",
            "|SEN              |\n",
            "|WAF              |\n",
            "|GUY              |\n",
            "|LCA              |\n",
            "|COM              |\n",
            "|HRV              |\n",
            "|VCT              |\n",
            "|MEA              |\n",
            "|QAT              |\n",
            "|BHS              |\n",
            "|GBR              |\n",
            "|PRY              |\n",
            "|GMB              |\n",
            "|ARE              |\n",
            "|TON              |\n",
            "|CRI              |\n",
            "|TJK              |\n",
            "|BMU              |\n",
            "|ERI              |\n",
            "|NPL              |\n",
            "|UGA              |\n",
            "|VUT              |\n",
            "|AZE              |\n",
            "|AUS              |\n",
            "|MLI              |\n",
            "|MLT              |\n",
            "|KNA              |\n",
            "|EAF              |\n",
            "|MEX              |\n",
            "|AFG              |\n",
            "|BGD              |\n",
            "|PNG              |\n",
            "|DMA              |\n",
            "|EUR              |\n",
            "|CAS              |\n",
            "|YEM              |\n",
            "|BLR              |\n",
            "|MNG              |\n",
            "|SVK              |\n",
            "|SYC              |\n",
            "|STP              |\n",
            "|COG              |\n",
            "|HUN              |\n",
            "|TKM              |\n",
            "|NZL              |\n",
            "|THA              |\n",
            "|DJI              |\n",
            "|IRQ              |\n",
            "|NOR              |\n",
            "|VEN              |\n",
            "|TUV              |\n",
            "|GNB              |\n",
            "|SAS              |\n",
            "|SAU              |\n",
            "|FIN              |\n",
            "|BWA              |\n",
            "|PGS              |\n",
            "|BFA              |\n",
            "|DOM              |\n",
            "|NMR              |\n",
            "|ALB              |\n",
            "|TGO              |\n",
            "|BHR              |\n",
            "|NIC              |\n",
            "|SSD              |\n",
            "|SUR              |\n",
            "|SEA              |\n",
            "|TMP              |\n",
            "|KWT              |\n",
            "|MWI              |\n",
            "|FJI              |\n",
            "|MRT              |\n",
            "|AND              |\n",
            "|CAF              |\n",
            "|PER              |\n",
            "|AFR              |\n",
            "|NLD              |\n",
            "|PAK              |\n",
            "|LUX              |\n",
            "|TUR              |\n",
            "|CYM              |\n",
            "|RWA              |\n",
            "|SLE              |\n",
            "|AUT              |\n",
            "|BDI              |\n",
            "|USA              |\n",
            "|MAR              |\n",
            "|MDG              |\n",
            "|SDN              |\n",
            "|OMN              |\n",
            "|GEO              |\n",
            "|VNM              |\n",
            "|PAN              |\n",
            "|WST              |\n",
            "|CIV              |\n",
            "|LBR              |\n",
            "|KOR              |\n",
            "|PRK              |\n",
            "|LIE              |\n",
            "|ZAF              |\n",
            "|LSO              |\n",
            "|BTN              |\n",
            "|ISR              |\n",
            "|PRT              |\n",
            "|TUN              |\n",
            "|NAM              |\n",
            "|SMR              |\n",
            "|IRN              |\n",
            "|LTU              |\n",
            "|CYP              |\n",
            "|TWN              |\n",
            "|MYS              |\n",
            "|ZWE              |\n",
            "|CHL              |\n",
            "|MHL              |\n",
            "|SAF              |\n",
            "|MAC              |\n",
            "|MUS              |\n",
            "|CAN              |\n",
            "|RUS              |\n",
            "|COL              |\n",
            "|AIA              |\n",
            "|KIR              |\n",
            "|ARG              |\n",
            "|BLZ              |\n",
            "|DNK              |\n",
            "|SWZ              |\n",
            "|TTO              |\n",
            "|ESP              |\n",
            "|KEN              |\n",
            "|LKA              |\n",
            "|WSM              |\n",
            "|MDV              |\n",
            "|LBN              |\n",
            "|EST              |\n",
            "|ASA              |\n",
            "|AGO              |\n",
            "|SLB              |\n",
            "|IRL              |\n",
            "|SWE              |\n",
            "|NGA              |\n",
            "|GAB              |\n",
            "|HND              |\n",
            "|CRB              |\n",
            "|NRU              |\n",
            "|SLV              |\n",
            "|ECU              |\n",
            "|GRD              |\n",
            "|SYR              |\n",
            "|GRC              |\n",
            "|GIN              |\n",
            "|COK              |\n",
            "|SGP              |\n",
            "|IND              |\n",
            "|KAZ              |\n",
            "|HKG              |\n",
            "|MMR              |\n",
            "|KHM              |\n",
            "|TCD              |\n",
            "|BEL              |\n",
            "|MKD              |\n",
            "|CHN              |\n",
            "|IDN              |\n",
            "|DEU              |\n",
            "|DZA              |\n",
            "|MDA              |\n",
            "|UZB              |\n",
            "|BGR              |\n",
            "|MCO              |\n",
            "|JPN              |\n",
            "|SRB              |\n",
            "|TZA              |\n",
            "|LAO              |\n",
            "|KGZ              |\n",
            "|PLW              |\n",
            "|CHE              |\n",
            "|PHL              |\n",
            "|CZE              |\n",
            "|EGY              |\n",
            "|BEN              |\n",
            "|ISL              |\n",
            "|CPV              |\n",
            "|SAM              |\n",
            "+-----------------+\n",
            "\n"
          ]
        }
      ],
      "source": [
        "# Get distinct country codes from Actor1CountryCode\n",
        "distinct_actor1_country_codes = processed_data.select(col('Actor1CountryCode')).distinct()\n",
        "\n",
        "# Get distinct country codes from Actor2CountryCode\n",
        "distinct_actor2_country_codes = processed_data.select(col('Actor2CountryCode')).distinct()\n",
        "\n",
        "# Show all distinct country codes from Actor1CountryCode\n",
        "distinct_actor1_country_codes.show(distinct_actor1_country_codes.count(), False)\n",
        "\n",
        "# Show all distinct country codes from Actor2CountryCode\n",
        "distinct_actor2_country_codes.show(distinct_actor2_country_codes.count(), False)\n"
      ]
    },
    {
      "cell_type": "code",
      "execution_count": 12,
      "metadata": {
        "id": "7iHGITt2epkh"
      },
      "outputs": [],
      "source": [
        "# mapping the TLDs onto Country Codes so we can infer the country accurately\n",
        "\n",
        "actor_country_tlds = {\n",
        "    'POL': 'pl', 'LVA': 'lv', 'BRB': 'bb', 'JAM': 'jm', 'BRA': 'br', 'FRA': 'fr', 'URY': 'uy',\n",
        "    'ITA': 'it', 'GUY': 'gy', 'HRV': 'hr', 'BHS': 'bs', 'GBR': 'uk', 'PRY': 'py', 'TON': 'to',\n",
        "    'CRI': 'cr', 'VUT': 'vu', 'AUS': 'au', 'MLT': 'mt', 'PNG': 'pg', 'DMA': 'dm', 'MNG': 'mn',\n",
        "    'SVK': 'sk', 'SYC': 'sc', 'STP': 'st', 'HUN': 'hu', 'NZL': 'nz', 'VNM': 'vn', 'ARG': 'ar',\n",
        "    'BLZ': 'bz', 'DNK': 'dk', 'TTO': 'tt', 'ESP': 'es', 'WSM': 'ws', 'EST': 'ee', 'SLB': 'sb',\n",
        "    'IRL': 'ie', 'SWE': 'se', 'GRD': 'gd', 'GRC': 'gr', 'SGP': 'sg', 'BEL': 'be', 'CHN': 'cn',\n",
        "    'DEU': 'de', 'MCO': 'mc', 'JPN': 'jp', 'PLW': 'pw', 'CHE': 'ch', 'PHL': 'ph', 'CZE': 'cz',\n",
        "    'ISL': 'is', 'FSM': 'fm', 'AND': 'ad', 'HTI': 'ht', 'MOZ': 'mz', 'JOR': 'jo', 'CUB': 'cu',\n",
        "    'SOM': 'so', 'BRN': 'bn', 'LBY': 'ly', 'ETH': 'et', 'GNQ': 'gq', 'CMR': 'cm', 'NER': 'ne',\n",
        "    'QAT': 'qa', 'TJK': 'tj', 'ERI': 'er', 'UGA': 'ug', 'AZE': 'az', 'MLI': 'ml', 'AFG': 'af',\n",
        "    'YEM': 'ye', 'TKM': 'tm', 'THA': 'th', 'DJI': 'dj', 'IRQ': 'iq', 'VEN': 've', 'SAU': 'sa',\n",
        "    'BFA': 'bf', 'BHR': 'bh', 'SSD': 'ss', 'KWT': 'kw', 'MRT': 'mr', 'CAF': 'cf', 'PAK': 'pk',\n",
        "    'TUR': 'tr', 'SLE': 'sl', 'BDI': 'bi', 'SDN': 'sd', 'OMN': 'om', 'VNM': 'vn', 'NAM': 'na',\n",
        "    'ZWE': 'zw', 'RUS': 'ru', 'SWZ': 'sz', 'LBN': 'lb', 'AGO': 'ao', 'NGA': 'ng', 'GAB': 'ga',\n",
        "    'SYR': 'sy', 'GIN': 'gn', 'KAZ': 'kz', 'MMR': 'mm', 'KHM': 'kh', 'TCD': 'td', 'MKD': 'mk',\n",
        "    'DZA': 'dz', 'UZB': 'uz', 'TZA': 'tz', 'KGZ': 'kg', 'LAO': 'la', 'EGY': 'eg', 'ARM': 'am',\n",
        "    'BOL': 'bo', 'UKR': 'ua', 'GTM': 'gt', 'SEN': 'sn', 'NPL': 'np', 'BGD': 'bd', 'DOM': 'do',\n",
        "    'ALB': 'al', 'TGO': 'tg', 'NIC': 'ni', 'MAR': 'ma', 'BTN': 'bt', 'KEN': 'ke', 'MDV': 'mv',\n",
        "    'HND': 'hn', 'SLV': 'sv', 'IND': 'in', 'IDN': 'id', 'SRB': 'rs', 'PSE': 'ps', 'LKA': 'lk',\n",
        "    'LBR': 'lr', 'TUN': 'tn', 'IRN': 'ir', 'LTU': 'lt', 'CYP': 'cy', 'TWN': 'tw', 'MYS': 'my',\n",
        "    'ZWE': 'zw', 'CHL': 'cl', 'MHL': 'mh', 'MUS': 'mu', 'CAN': 'ca', 'RUS': 'ru', 'COL': 'co',\n",
        "    'AIA': 'ai', 'KIR': 'ki', 'ARG': 'ar', 'BLZ': 'bz', 'DNK': 'dk', 'SWZ': 'sz', 'TTO': 'tt',\n",
        "    'ESP': 'es', 'KEN': 'ke', 'LKA': 'lk', 'WSM': 'ws', 'MDV': 'mv', 'LBN': 'lb', 'EST': 'ee',\n",
        "    'AGO': 'ao', 'SLB': 'sb', 'IRL': 'ie', 'SWE': 'se', 'NGA': 'ng', 'GAB': 'ga', 'HND': 'hn',\n",
        "    'CRB': 'cr', 'NRU': 'nr', 'SLV': 'sv', 'GRD': 'gd', 'ECU': 'ec', 'SYR': 'sy', 'GRC': 'gr',\n",
        "    'GIN': 'gn', 'COK': 'ck', 'SGP': 'sg', 'IND': 'in', 'KAZ': 'kz', 'HKG': 'hk', 'MMR': 'mm',\n",
        "    'KHM': 'kh', 'TCD': 'td', 'BEL': 'be', 'MKD': 'mk', 'CHN': 'cn', 'IDN': 'id', 'DEU': 'de',\n",
        "    'DZA': 'dz', 'MDA': 'md', 'BGR': 'bg', 'UZB': 'uz', 'MCO': 'mc', 'JPN': 'jp', 'SRB': 'rs',\n",
        "    'LAO': 'la', 'PLW': 'pw', 'KGZ': 'kg', 'CHE': 'ch', 'PHL': 'ph', 'CZE': 'cz', 'BEN': 'bj',\n",
        "    'EGY': 'eg', 'ISL': 'is', 'WAF': 'wa', 'VCT': 'vc', 'CAS': 'eh', 'TMP': 'tl', 'NAM': 'na',\n",
        "    'MAC': 'mo', 'TZA': 'tz', 'STP': 'st', 'CPV': 'cv', 'COM': 'km', 'EAF': 'ea', 'GEO': 'ge',\n",
        "    'SMR': 'sm', 'SAM': 'as', 'FSM': 'fm', 'CAF': 'cf', 'LBR': 'lr', 'NIC': 'ni', 'MAR': 'ma',\n",
        "    'RKS': 'xk'\n",
        "}\n"
      ]
    },
    {
      "cell_type": "code",
      "execution_count": 13,
      "metadata": {
        "colab": {
          "base_uri": "https://localhost:8080/"
        },
        "id": "O1NjzGlVepki",
        "outputId": "1c9eb9b6-5cf6-4b25-fe69-98093692faaa"
      },
      "outputs": [
        {
          "output_type": "stream",
          "name": "stdout",
          "text": [
            "-RECORD 0-------------------------------------\n",
            " GLOBALEVENTID         | 410487323            \n",
            " SQLDATE               | 20150219             \n",
            " MonthYear             | 201502               \n",
            " Year                  | 2015                 \n",
            " FractionDate          | 2015.1342            \n",
            " Actor1Code            | CZE                  \n",
            " Actor1Name            | CZECH REPUBLIC       \n",
            " Actor1CountryCode     | CZE                  \n",
            " Actor1KnownGroupCode  | NULL                 \n",
            " Actor1EthnicCode      | NULL                 \n",
            " Actor1Religion1Code   | NULL                 \n",
            " Actor1Religion2Code   | NULL                 \n",
            " Actor1Type1Code       | NULL                 \n",
            " Actor1Type2Code       | NULL                 \n",
            " Actor1Type3Code       | NULL                 \n",
            " Actor2Code            | JOR                  \n",
            " Actor2Name            | JORDAN               \n",
            " Actor2CountryCode     | JOR                  \n",
            " Actor2KnownGroupCode  | NULL                 \n",
            " Actor2EthnicCode      | NULL                 \n",
            " Actor2Religion1Code   | NULL                 \n",
            " Actor2Religion2Code   | NULL                 \n",
            " Actor2Type1Code       | NULL                 \n",
            " Actor2Type2Code       | NULL                 \n",
            " Actor2Type3Code       | NULL                 \n",
            " IsRootEvent           | 0                    \n",
            " EventCode             | 20                   \n",
            " EventBaseCode         | 20                   \n",
            " EventRootCode         | 2                    \n",
            " QuadClass             | 1                    \n",
            " GoldsteinScale        | 3.0                  \n",
            " NumMentions           | 6                    \n",
            " NumSources            | 1                    \n",
            " NumArticles           | 6                    \n",
            " AvgTone               | 1.84782608695652     \n",
            " Actor1Geo_Type        | 1                    \n",
            " Actor1Geo_FullName    | Czech Republic       \n",
            " Actor1Geo_CountryCode | EZ                   \n",
            " Actor1Geo_ADM1Code    | EZ                   \n",
            " Actor1Geo_ADM2Code    | NULL                 \n",
            " Actor1Geo_Lat         | 49.75                \n",
            " Actor1Geo_Long        | 15.5                 \n",
            " Actor1Geo_FeatureID   | EZ                   \n",
            " Actor2Geo_Type        | 1                    \n",
            " Actor2Geo_FullName    | Jordan               \n",
            " Actor2Geo_CountryCode | JO                   \n",
            " Actor2Geo_ADM1Code    | JO                   \n",
            " Actor2Geo_ADM2Code    | NULL                 \n",
            " Actor2Geo_Lat         | 31.0                 \n",
            " Actor2Geo_Long        | 36.0                 \n",
            " Actor2Geo_FeatureID   | JO                   \n",
            " ActionGeo_Type        | 1                    \n",
            " ActionGeo_FullName    | Jordan               \n",
            " ActionGeo_CountryCode | JO                   \n",
            " ActionGeo_ADM1Code    | JO                   \n",
            " ActionGeo_ADM2Code    | NULL                 \n",
            " ActionGeo_Lat         | 31.0                 \n",
            " ActionGeo_Long        | 36.0                 \n",
            " ActionGeo_FeatureID   | JO                   \n",
            " DATEADDED             | 20150219040000       \n",
            " SOURCEURL             | http://hradecky.d... \n",
            " CAMEO_Code            | CZE                  \n",
            " Country/Territory     | Czech Republic       \n",
            " Status                | F                    \n",
            " Total                 | 95                   \n",
            " Dom/Int               | International        \n",
            " NewsOutlet            | denik                \n",
            " NewsOutletCountry     | cz                   \n",
            "only showing top 1 row\n",
            "\n"
          ]
        }
      ],
      "source": [
        "# List of valid TLDs (ones which appear above)\n",
        "valid_tlds = list(actor_country_tlds.values())\n",
        "\n",
        "# Filter the DataFrame\n",
        "df_with_tlds = processed_data.filter(col('NewsOutletCountry').isin(valid_tlds))\n",
        "\n",
        "# Show the filtered results\n",
        "df_with_tlds.show(n=1,vertical=True)\n"
      ]
    },
    {
      "cell_type": "code",
      "execution_count": 14,
      "metadata": {
        "colab": {
          "base_uri": "https://localhost:8080/"
        },
        "id": "7nfzx6niepki",
        "outputId": "bedef899-c753-4aad-943f-db4d40dc0778"
      },
      "outputs": [
        {
          "output_type": "stream",
          "name": "stdout",
          "text": [
            "Current number of rows: 22161\n"
          ]
        }
      ],
      "source": [
        "# Count the number of rows after this new extraction\n",
        "current_row_count = df_with_tlds.count()\n",
        "print(f\"Current number of rows: {current_row_count}\")"
      ]
    },
    {
      "cell_type": "code",
      "execution_count": 15,
      "metadata": {
        "colab": {
          "base_uri": "https://localhost:8080/"
        },
        "id": "cSe4-ubGepki",
        "outputId": "9c4cb6e8-9b3b-4c47-e4d9-159c06358a05"
      },
      "outputs": [
        {
          "output_type": "stream",
          "name": "stdout",
          "text": [
            "+-------------------------------------------------------------------------------------------------------------------------------------------------------------------------------------------------------------------------+--------------+-----------------+----------+\n",
            "|SOURCEURL                                                                                                                                                                                                                |NewsOutlet    |NewsOutletCountry|CAMEO_Code|\n",
            "+-------------------------------------------------------------------------------------------------------------------------------------------------------------------------------------------------------------------------+--------------+-----------------+----------+\n",
            "|http://hradecky.denik.cz/zpravy_region/polni-nemocnice-ma-pomoci-v-jordansku-prekvapil-prezident-20150219.html                                                                                                           |denik         |cz               |CZE       |\n",
            "|http://www.tyden.cz/rubriky/zahranici/rusko-a-okoli/triumfujici-opolcenci-zvou-obse-a-nabizeji-vymenu-zajatcu_333903.html                                                                                                |tyden         |cz               |RUS       |\n",
            "|http://news.az/articles/interviews/95819                                                                                                                                                                                 |news          |az               |TUR       |\n",
            "|http://www.newsit.gr/politikh/dragasakis-stournaras-eurogrou-katatheseis-1902                                                                                                                                            |newsit        |gr               |GRC       |\n",
            "|http://www.huffingtonpost.ca/blake-bromley/redemption-as-well-as-ret_b_5793390.html                                                                                                                                      |huffingtonpost|ca               |CHN       |\n",
            "|http://www.politika.rs/vesti/najnovije-vesti/Moskva-Izjava-Falona-prevazilazi-diplomatsku-etiku.sr.html                                                                                                                  |politika      |rs               |LTU       |\n",
            "|http://ua.golos.ua/politika/zaschityat_li_mirotvortsyi_oon_i_es_petra_poroshenko_ot_semenchenko_i_yarosha_7987                                                                                                           |golos         |ua               |UKR       |\n",
            "|http://www.ad-hoc-news.de/high-poverty-deep-disunity-german-wage-inequality--/de/News/42055111                                                                                                                           |ad-hoc-news   |de               |GRC       |\n",
            "|http://www.madata.gr/epikairotita/401905.html                                                                                                                                                                            |madata        |gr               |GRC       |\n",
            "|http://24tv.ua/news/showNews.do?na_luganshhini_boyoviki_vpershe_dotrimalis_minskih_domovlenostey__prestsentr_ato&objectId=545896                                                                                         |24tv          |ua               |UKR       |\n",
            "|http://www.herald.ie/news/ibrahim-is-a-tough-guy-hell-make-it-says-freed-cellmate-31007696.html                                                                                                                          |herald        |ie               |QAT       |\n",
            "|http://zik.ua/ua/news/2015/02/20/ukrainski_viyskovi_tsogo_roku_vizmut_uchast_v_11_bagatonatsionalnyh_navchannyah_566303                                                                                                  |zik           |ua               |UKR       |\n",
            "|http://tvanouvelles.ca/lcn/infos/regional/montreal/archives/2015/02/20150220-063910.html                                                                                                                                 |tvanouvelles  |ca               |CAN       |\n",
            "|http://www.madata.gr/epikairotita/politics/402039.html                                                                                                                                                                   |madata        |gr               |GRC       |\n",
            "|http://english.blic.rs/News/10676/Ivica-Dacic-Albania-must-respect-OSCE                                                                                                                                                  |blic          |rs               |SRB       |\n",
            "|http://www.ceskatelevize.cz/ct24/ekonomika/302386-eurozona-znovu-jedna-o-recku-na-stole-je-nova-dohoda/                                                                                                                  |ceskatelevize |cz               |GRC       |\n",
            "|https://news.mail.ru/politics/21146857/                                                                                                                                                                                  |mail          |ru               |FRA       |\n",
            "|http://arabic.news.cn/arabic/2015-02/21/c_134009301.htm                                                                                                                                                                  |news          |cn               |LBY       |\n",
            "|http://www.elpais.cr/2015/02/20/indonesia-llama-a-su-embajador-en-brasil-y-presenta-una-protesta-formal/                                                                                                                 |elpais        |cr               |IDN       |\n",
            "|http://www.sana.sy/%D9%85%D8%B9%D8%A7-%D8%B6%D8%AF-%D8%A7%D9%84%D8%A5%D8%B1%D9%87%D8%A7%D8%A8-%D9%86%D8%AF%D9%88%D8%A9-%D8%AA%D8%B6%D8%A7%D9%85%D9%86%D9%8A%D8%A9-%D9%85%D8%B9-%D8%B3%D9%88%D8%B1%D9%8A%D8%A9-%D9%81.html|sana          |sy               |SYR       |\n",
            "+-------------------------------------------------------------------------------------------------------------------------------------------------------------------------------------------------------------------------+--------------+-----------------+----------+\n",
            "\n"
          ]
        }
      ],
      "source": [
        "# Select the columns toshow\n",
        "selected_columns = ['SOURCEURL', 'NewsOutlet', 'NewsOutletCountry', 'CAMEO_Code']\n",
        "\n",
        "# Select 20 rows and show the results\n",
        "df_with_tlds.select(selected_columns).limit(20).show(truncate=False)\n"
      ]
    },
    {
      "cell_type": "markdown",
      "metadata": {
        "id": "LL3Z9F5Yepkj"
      },
      "source": [
        "### News outlets seem to not reliable so removing that column.\n",
        "### We then counted how many distinct events are left"
      ]
    },
    {
      "cell_type": "code",
      "execution_count": 16,
      "metadata": {
        "colab": {
          "base_uri": "https://localhost:8080/"
        },
        "id": "zBTQ3voUepkj",
        "outputId": "7a4f5287-aeaf-4c39-f247-84a2597e598f"
      },
      "outputs": [
        {
          "output_type": "stream",
          "name": "stdout",
          "text": [
            "Number of distinct events: 22161\n",
            "root\n",
            " |-- GLOBALEVENTID: integer (nullable = true)\n",
            " |-- SQLDATE: integer (nullable = true)\n",
            " |-- MonthYear: integer (nullable = true)\n",
            " |-- Year: integer (nullable = true)\n",
            " |-- FractionDate: double (nullable = true)\n",
            " |-- Actor1Code: string (nullable = true)\n",
            " |-- Actor1Name: string (nullable = true)\n",
            " |-- Actor1CountryCode: string (nullable = true)\n",
            " |-- Actor1KnownGroupCode: string (nullable = true)\n",
            " |-- Actor1EthnicCode: string (nullable = true)\n",
            " |-- Actor1Religion1Code: string (nullable = true)\n",
            " |-- Actor1Religion2Code: string (nullable = true)\n",
            " |-- Actor1Type1Code: string (nullable = true)\n",
            " |-- Actor1Type2Code: string (nullable = true)\n",
            " |-- Actor1Type3Code: string (nullable = true)\n",
            " |-- Actor2Code: string (nullable = true)\n",
            " |-- Actor2Name: string (nullable = true)\n",
            " |-- Actor2CountryCode: string (nullable = true)\n",
            " |-- Actor2KnownGroupCode: string (nullable = true)\n",
            " |-- Actor2EthnicCode: string (nullable = true)\n",
            " |-- Actor2Religion1Code: string (nullable = true)\n",
            " |-- Actor2Religion2Code: string (nullable = true)\n",
            " |-- Actor2Type1Code: string (nullable = true)\n",
            " |-- Actor2Type2Code: string (nullable = true)\n",
            " |-- Actor2Type3Code: string (nullable = true)\n",
            " |-- IsRootEvent: integer (nullable = true)\n",
            " |-- EventCode: integer (nullable = true)\n",
            " |-- EventBaseCode: integer (nullable = true)\n",
            " |-- EventRootCode: integer (nullable = true)\n",
            " |-- QuadClass: integer (nullable = true)\n",
            " |-- GoldsteinScale: double (nullable = true)\n",
            " |-- NumMentions: integer (nullable = true)\n",
            " |-- NumSources: integer (nullable = true)\n",
            " |-- NumArticles: integer (nullable = true)\n",
            " |-- AvgTone: double (nullable = true)\n",
            " |-- Actor1Geo_Type: integer (nullable = true)\n",
            " |-- Actor1Geo_FullName: string (nullable = true)\n",
            " |-- Actor1Geo_CountryCode: string (nullable = true)\n",
            " |-- Actor1Geo_ADM1Code: string (nullable = true)\n",
            " |-- Actor1Geo_ADM2Code: string (nullable = true)\n",
            " |-- Actor1Geo_Lat: double (nullable = true)\n",
            " |-- Actor1Geo_Long: double (nullable = true)\n",
            " |-- Actor1Geo_FeatureID: string (nullable = true)\n",
            " |-- Actor2Geo_Type: integer (nullable = true)\n",
            " |-- Actor2Geo_FullName: string (nullable = true)\n",
            " |-- Actor2Geo_CountryCode: string (nullable = true)\n",
            " |-- Actor2Geo_ADM1Code: string (nullable = true)\n",
            " |-- Actor2Geo_ADM2Code: string (nullable = true)\n",
            " |-- Actor2Geo_Lat: double (nullable = true)\n",
            " |-- Actor2Geo_Long: double (nullable = true)\n",
            " |-- Actor2Geo_FeatureID: string (nullable = true)\n",
            " |-- ActionGeo_Type: integer (nullable = true)\n",
            " |-- ActionGeo_FullName: string (nullable = true)\n",
            " |-- ActionGeo_CountryCode: string (nullable = true)\n",
            " |-- ActionGeo_ADM1Code: string (nullable = true)\n",
            " |-- ActionGeo_ADM2Code: string (nullable = true)\n",
            " |-- ActionGeo_Lat: double (nullable = true)\n",
            " |-- ActionGeo_Long: double (nullable = true)\n",
            " |-- ActionGeo_FeatureID: string (nullable = true)\n",
            " |-- DATEADDED: long (nullable = true)\n",
            " |-- SOURCEURL: string (nullable = true)\n",
            " |-- CAMEO_Code: string (nullable = true)\n",
            " |-- Country/Territory: string (nullable = true)\n",
            " |-- Status: string (nullable = true)\n",
            " |-- Total: integer (nullable = true)\n",
            " |-- Dom/Int: string (nullable = false)\n",
            " |-- NewsOutletCountry: string (nullable = true)\n",
            "\n"
          ]
        }
      ],
      "source": [
        "# Remove the 'NewsOutlet' column\n",
        "df_with_tlds = df_with_tlds.drop('NewsOutlet')\n",
        "\n",
        "# Count the number of distinct events\n",
        "distinct_event_count = df_with_tlds.select('GLOBALEVENTID').distinct().count()\n",
        "\n",
        "print(\"Number of distinct events:\", distinct_event_count)\n",
        "\n",
        "df_with_tlds.printSchema()"
      ]
    },
    {
      "cell_type": "markdown",
      "metadata": {
        "id": "u6K-HW3sepkj"
      },
      "source": [
        "## 9 Handling Missing Data\n",
        "\n",
        "Missing values can often lead to misleading analysis results.\n",
        "After inspecting the % of missing values in each column it was decided to set the following thresholds; If the column had more than 70% missing values then the column was removed. If the column had less than 5% missing values, those rows would be removed. There were no % in between these thresholds therefore the rest did not have any missing values."
      ]
    },
    {
      "cell_type": "code",
      "execution_count": 17,
      "metadata": {
        "colab": {
          "base_uri": "https://localhost:8080/"
        },
        "id": "5wd-zSzWepkj",
        "outputId": "9ba0b24f-b565-4f46-9426-9bc1b29c1898"
      },
      "outputs": [
        {
          "output_type": "stream",
          "name": "stdout",
          "text": [
            "The column 'GLOBALEVENTID' has 0.00% missing values.\n",
            "The column 'SQLDATE' has 0.00% missing values.\n",
            "The column 'MonthYear' has 0.00% missing values.\n",
            "The column 'Year' has 0.00% missing values.\n",
            "The column 'FractionDate' has 0.00% missing values.\n",
            "The column 'Actor1Code' has 0.00% missing values.\n",
            "The column 'Actor1Name' has 0.00% missing values.\n",
            "The column 'Actor1CountryCode' has 0.00% missing values.\n",
            "The column 'Actor1KnownGroupCode' has 99.84% missing values.\n",
            "The column 'Actor1EthnicCode' has 100.00% missing values.\n",
            "The column 'Actor1Religion1Code' has 99.89% missing values.\n",
            "The column 'Actor1Religion2Code' has 100.00% missing values.\n",
            "The column 'Actor1Type1Code' has 76.55% missing values.\n",
            "The column 'Actor1Type2Code' has 99.19% missing values.\n",
            "The column 'Actor1Type3Code' has 99.99% missing values.\n",
            "The column 'Actor2Code' has 0.00% missing values.\n",
            "The column 'Actor2Name' has 0.00% missing values.\n",
            "The column 'Actor2CountryCode' has 0.00% missing values.\n",
            "The column 'Actor2KnownGroupCode' has 98.05% missing values.\n",
            "The column 'Actor2EthnicCode' has 100.00% missing values.\n",
            "The column 'Actor2Religion1Code' has 99.84% missing values.\n",
            "The column 'Actor2Religion2Code' has 100.00% missing values.\n",
            "The column 'Actor2Type1Code' has 74.03% missing values.\n",
            "The column 'Actor2Type2Code' has 98.98% missing values.\n",
            "The column 'Actor2Type3Code' has 99.96% missing values.\n",
            "The column 'IsRootEvent' has 0.00% missing values.\n",
            "The column 'EventCode' has 0.00% missing values.\n",
            "The column 'EventBaseCode' has 0.00% missing values.\n",
            "The column 'EventRootCode' has 0.00% missing values.\n",
            "The column 'QuadClass' has 0.00% missing values.\n",
            "The column 'GoldsteinScale' has 0.00% missing values.\n",
            "The column 'NumMentions' has 0.00% missing values.\n",
            "The column 'NumSources' has 0.00% missing values.\n",
            "The column 'NumArticles' has 0.00% missing values.\n",
            "The column 'AvgTone' has 0.00% missing values.\n",
            "The column 'Actor1Geo_Type' has 0.00% missing values.\n",
            "The column 'Actor1Geo_FullName' has 0.51% missing values.\n",
            "The column 'Actor1Geo_CountryCode' has 0.36% missing values.\n",
            "The column 'Actor1Geo_ADM1Code' has 0.36% missing values.\n",
            "The column 'Actor1Geo_ADM2Code' has 50.74% missing values.\n",
            "The column 'Actor1Geo_Lat' has 0.40% missing values.\n",
            "The column 'Actor1Geo_Long' has 0.40% missing values.\n",
            "The column 'Actor1Geo_FeatureID' has 0.36% missing values.\n",
            "The column 'Actor2Geo_Type' has 0.00% missing values.\n",
            "The column 'Actor2Geo_FullName' has 0.51% missing values.\n",
            "The column 'Actor2Geo_CountryCode' has 0.36% missing values.\n",
            "The column 'Actor2Geo_ADM1Code' has 0.36% missing values.\n",
            "The column 'Actor2Geo_ADM2Code' has 52.57% missing values.\n",
            "The column 'Actor2Geo_Lat' has 0.39% missing values.\n",
            "The column 'Actor2Geo_Long' has 0.39% missing values.\n",
            "The column 'Actor2Geo_FeatureID' has 0.36% missing values.\n",
            "The column 'ActionGeo_Type' has 0.00% missing values.\n",
            "The column 'ActionGeo_FullName' has 0.56% missing values.\n",
            "The column 'ActionGeo_CountryCode' has 0.36% missing values.\n",
            "The column 'ActionGeo_ADM1Code' has 0.36% missing values.\n",
            "The column 'ActionGeo_ADM2Code' has 50.90% missing values.\n",
            "The column 'ActionGeo_Lat' has 0.43% missing values.\n",
            "The column 'ActionGeo_Long' has 0.43% missing values.\n",
            "The column 'ActionGeo_FeatureID' has 0.36% missing values.\n",
            "The column 'DATEADDED' has 0.00% missing values.\n",
            "The column 'SOURCEURL' has 0.00% missing values.\n",
            "The column 'CAMEO_Code' has 0.00% missing values.\n",
            "The column 'Country/Territory' has 0.00% missing values.\n",
            "The column 'Status' has 0.00% missing values.\n",
            "The column 'Total' has 0.00% missing values.\n",
            "The column 'Dom/Int' has 0.00% missing values.\n",
            "The column 'NewsOutletCountry' has 0.00% missing values.\n"
          ]
        }
      ],
      "source": [
        "# Calculate the total number of rows in the dataset\n",
        "total_rows = df_with_tlds.count()\n",
        "\n",
        "# Calculate the number of missing values in each column\n",
        "missing_values = df_with_tlds.select([(count(when(col(c).isNull(), c)) / total_rows).alias(c) for c in df_with_tlds.columns]).first()\n",
        "\n",
        "# Convert row to dictionary\n",
        "missing_values_dict = missing_values.asDict()\n",
        "for column, missing_fraction in missing_values_dict.items():\n",
        "    print(f\"The column '{column}' has {missing_fraction * 100:.2f}% missing values.\")\n"
      ]
    },
    {
      "cell_type": "code",
      "execution_count": 18,
      "metadata": {
        "colab": {
          "base_uri": "https://localhost:8080/"
        },
        "id": "xkK5mBmoepkk",
        "outputId": "b64d7361-dfa5-4dd3-c7af-605a32068787"
      },
      "outputs": [
        {
          "output_type": "stream",
          "name": "stdout",
          "text": [
            "Columns to remove: ['Actor1KnownGroupCode', 'Actor1EthnicCode', 'Actor1Religion1Code', 'Actor1Religion2Code', 'Actor1Type1Code', 'Actor1Type2Code', 'Actor1Type3Code', 'Actor2KnownGroupCode', 'Actor2EthnicCode', 'Actor2Religion1Code', 'Actor2Religion2Code', 'Actor2Type1Code', 'Actor2Type2Code', 'Actor2Type3Code']\n",
            "Columns to check: ['GLOBALEVENTID', 'SQLDATE', 'MonthYear', 'Year', 'FractionDate', 'Actor1Code', 'Actor1Name', 'Actor1CountryCode', 'Actor2Code', 'Actor2Name', 'Actor2CountryCode', 'IsRootEvent', 'EventCode', 'EventBaseCode', 'EventRootCode', 'QuadClass', 'GoldsteinScale', 'NumMentions', 'NumSources', 'NumArticles', 'AvgTone', 'Actor1Geo_Type', 'Actor1Geo_FullName', 'Actor1Geo_CountryCode', 'Actor1Geo_ADM1Code', 'Actor1Geo_Lat', 'Actor1Geo_Long', 'Actor1Geo_FeatureID', 'Actor2Geo_Type', 'Actor2Geo_FullName', 'Actor2Geo_CountryCode', 'Actor2Geo_ADM1Code', 'Actor2Geo_Lat', 'Actor2Geo_Long', 'Actor2Geo_FeatureID', 'ActionGeo_Type', 'ActionGeo_FullName', 'ActionGeo_CountryCode', 'ActionGeo_ADM1Code', 'ActionGeo_Lat', 'ActionGeo_Long', 'ActionGeo_FeatureID', 'DATEADDED', 'SOURCEURL', 'CAMEO_Code', 'Country/Territory', 'Status', 'Total', 'Dom/Int', 'NewsOutletCountry']\n",
            "Remaining rows after dropping missing values: 22023\n",
            "-RECORD 0-------------------------------------\n",
            " GLOBALEVENTID         | 410487323            \n",
            " SQLDATE               | 20150219             \n",
            " MonthYear             | 201502               \n",
            " Year                  | 2015                 \n",
            " FractionDate          | 2015.1342            \n",
            " Actor1Code            | CZE                  \n",
            " Actor1Name            | CZECH REPUBLIC       \n",
            " Actor1CountryCode     | CZE                  \n",
            " Actor2Code            | JOR                  \n",
            " Actor2Name            | JORDAN               \n",
            " Actor2CountryCode     | JOR                  \n",
            " IsRootEvent           | 0                    \n",
            " EventCode             | 20                   \n",
            " EventBaseCode         | 20                   \n",
            " EventRootCode         | 2                    \n",
            " QuadClass             | 1                    \n",
            " GoldsteinScale        | 3.0                  \n",
            " NumMentions           | 6                    \n",
            " NumSources            | 1                    \n",
            " NumArticles           | 6                    \n",
            " AvgTone               | 1.84782608695652     \n",
            " Actor1Geo_Type        | 1                    \n",
            " Actor1Geo_FullName    | Czech Republic       \n",
            " Actor1Geo_CountryCode | EZ                   \n",
            " Actor1Geo_ADM1Code    | EZ                   \n",
            " Actor1Geo_ADM2Code    | NULL                 \n",
            " Actor1Geo_Lat         | 49.75                \n",
            " Actor1Geo_Long        | 15.5                 \n",
            " Actor1Geo_FeatureID   | EZ                   \n",
            " Actor2Geo_Type        | 1                    \n",
            " Actor2Geo_FullName    | Jordan               \n",
            " Actor2Geo_CountryCode | JO                   \n",
            " Actor2Geo_ADM1Code    | JO                   \n",
            " Actor2Geo_ADM2Code    | NULL                 \n",
            " Actor2Geo_Lat         | 31.0                 \n",
            " Actor2Geo_Long        | 36.0                 \n",
            " Actor2Geo_FeatureID   | JO                   \n",
            " ActionGeo_Type        | 1                    \n",
            " ActionGeo_FullName    | Jordan               \n",
            " ActionGeo_CountryCode | JO                   \n",
            " ActionGeo_ADM1Code    | JO                   \n",
            " ActionGeo_ADM2Code    | NULL                 \n",
            " ActionGeo_Lat         | 31.0                 \n",
            " ActionGeo_Long        | 36.0                 \n",
            " ActionGeo_FeatureID   | JO                   \n",
            " DATEADDED             | 20150219040000       \n",
            " SOURCEURL             | http://hradecky.d... \n",
            " CAMEO_Code            | CZE                  \n",
            " Country/Territory     | Czech Republic       \n",
            " Status                | F                    \n",
            " Total                 | 95                   \n",
            " Dom/Int               | International        \n",
            " NewsOutletCountry     | cz                   \n",
            "-RECORD 1-------------------------------------\n",
            " GLOBALEVENTID         | 410582455            \n",
            " SQLDATE               | 20150219             \n",
            " MonthYear             | 201502               \n",
            " Year                  | 2015                 \n",
            " FractionDate          | 2015.1342            \n",
            " Actor1Code            | RUS                  \n",
            " Actor1Name            | RUSSIAN              \n",
            " Actor1CountryCode     | RUS                  \n",
            " Actor2Code            | DEUGOV               \n",
            " Actor2Name            | GERMAN               \n",
            " Actor2CountryCode     | DEU                  \n",
            " IsRootEvent           | 0                    \n",
            " EventCode             | 30                   \n",
            " EventBaseCode         | 30                   \n",
            " EventRootCode         | 3                    \n",
            " QuadClass             | 1                    \n",
            " GoldsteinScale        | 4.0                  \n",
            " NumMentions           | 6                    \n",
            " NumSources            | 1                    \n",
            " NumArticles           | 6                    \n",
            " AvgTone               | -1.73053152039555    \n",
            " Actor1Geo_Type        | 1                    \n",
            " Actor1Geo_FullName    | Russia               \n",
            " Actor1Geo_CountryCode | RS                   \n",
            " Actor1Geo_ADM1Code    | RS                   \n",
            " Actor1Geo_ADM2Code    | NULL                 \n",
            " Actor1Geo_Lat         | 60.0                 \n",
            " Actor1Geo_Long        | 100.0                \n",
            " Actor1Geo_FeatureID   | RS                   \n",
            " Actor2Geo_Type        | 1                    \n",
            " Actor2Geo_FullName    | Germany              \n",
            " Actor2Geo_CountryCode | GM                   \n",
            " Actor2Geo_ADM1Code    | GM                   \n",
            " Actor2Geo_ADM2Code    | NULL                 \n",
            " Actor2Geo_Lat         | 51.0                 \n",
            " Actor2Geo_Long        | 9.0                  \n",
            " Actor2Geo_FeatureID   | GM                   \n",
            " ActionGeo_Type        | 1                    \n",
            " ActionGeo_FullName    | Germany              \n",
            " ActionGeo_CountryCode | GM                   \n",
            " ActionGeo_ADM1Code    | GM                   \n",
            " ActionGeo_ADM2Code    | NULL                 \n",
            " ActionGeo_Lat         | 51.0                 \n",
            " ActionGeo_Long        | 9.0                  \n",
            " ActionGeo_FeatureID   | GM                   \n",
            " DATEADDED             | 20150219123000       \n",
            " SOURCEURL             | http://www.tyden.... \n",
            " CAMEO_Code            | RUS                  \n",
            " Country/Territory     | Russia               \n",
            " Status                | NF                   \n",
            " Total                 | 27                   \n",
            " Dom/Int               | International        \n",
            " NewsOutletCountry     | cz                   \n",
            "only showing top 2 rows\n",
            "\n"
          ]
        }
      ],
      "source": [
        "# Calculate the total number of rows in the dataset\n",
        "total_rows = df_with_tlds.count()\n",
        "\n",
        "# Calculate the percentage of missing values in each column\n",
        "missing_values = df_with_tlds.select([(count(when(col(c).isNull(), c)) / total_rows).alias(c) for c in df_with_tlds.columns]).first()\n",
        "\n",
        "# Convert to dict\n",
        "missing_values_dict = missing_values.asDict()\n",
        "\n",
        "# Define the threshold for removing columns and rows\n",
        "threshold_remove_columns = 0.7\n",
        "threshold_check_rows = 0.05\n",
        "\n",
        "# Get the columns to remove and to check based on the missing value percentages\n",
        "columns_to_remove = [c for c, v in missing_values_dict.items() if v > threshold_remove_columns]\n",
        "columns_to_check = [c for c, v in missing_values_dict.items() if v <= threshold_check_rows]\n",
        "\n",
        "print(f\"Columns to remove: {columns_to_remove}\")\n",
        "print(f\"Columns to check: {columns_to_check}\")\n",
        "\n",
        "# Remove the columns with high missing values\n",
        "data_removed = df_with_tlds.drop(*columns_to_remove)\n",
        "\n",
        "# Drop rows with any null value in the specified columns\n",
        "cleaned_data = data_removed.dropna(subset=columns_to_check)\n",
        "\n",
        "remaining_rows = cleaned_data.distinct().count()\n",
        "print(f\"Remaining rows after dropping missing values: {remaining_rows}\")\n",
        "\n",
        "# Show the cleaned data\n",
        "cleaned_data.show(n=2,vertical=True)\n"
      ]
    },
    {
      "cell_type": "code",
      "source": [
        "cleaned_data.printSchema()"
      ],
      "metadata": {
        "colab": {
          "base_uri": "https://localhost:8080/"
        },
        "id": "-TUJTkHI2AHg",
        "outputId": "872d2c35-229b-4c53-8de2-de5504248a04"
      },
      "execution_count": 19,
      "outputs": [
        {
          "output_type": "stream",
          "name": "stdout",
          "text": [
            "root\n",
            " |-- GLOBALEVENTID: integer (nullable = true)\n",
            " |-- SQLDATE: integer (nullable = true)\n",
            " |-- MonthYear: integer (nullable = true)\n",
            " |-- Year: integer (nullable = true)\n",
            " |-- FractionDate: double (nullable = true)\n",
            " |-- Actor1Code: string (nullable = true)\n",
            " |-- Actor1Name: string (nullable = true)\n",
            " |-- Actor1CountryCode: string (nullable = true)\n",
            " |-- Actor2Code: string (nullable = true)\n",
            " |-- Actor2Name: string (nullable = true)\n",
            " |-- Actor2CountryCode: string (nullable = true)\n",
            " |-- IsRootEvent: integer (nullable = true)\n",
            " |-- EventCode: integer (nullable = true)\n",
            " |-- EventBaseCode: integer (nullable = true)\n",
            " |-- EventRootCode: integer (nullable = true)\n",
            " |-- QuadClass: integer (nullable = true)\n",
            " |-- GoldsteinScale: double (nullable = true)\n",
            " |-- NumMentions: integer (nullable = true)\n",
            " |-- NumSources: integer (nullable = true)\n",
            " |-- NumArticles: integer (nullable = true)\n",
            " |-- AvgTone: double (nullable = true)\n",
            " |-- Actor1Geo_Type: integer (nullable = true)\n",
            " |-- Actor1Geo_FullName: string (nullable = true)\n",
            " |-- Actor1Geo_CountryCode: string (nullable = true)\n",
            " |-- Actor1Geo_ADM1Code: string (nullable = true)\n",
            " |-- Actor1Geo_ADM2Code: string (nullable = true)\n",
            " |-- Actor1Geo_Lat: double (nullable = true)\n",
            " |-- Actor1Geo_Long: double (nullable = true)\n",
            " |-- Actor1Geo_FeatureID: string (nullable = true)\n",
            " |-- Actor2Geo_Type: integer (nullable = true)\n",
            " |-- Actor2Geo_FullName: string (nullable = true)\n",
            " |-- Actor2Geo_CountryCode: string (nullable = true)\n",
            " |-- Actor2Geo_ADM1Code: string (nullable = true)\n",
            " |-- Actor2Geo_ADM2Code: string (nullable = true)\n",
            " |-- Actor2Geo_Lat: double (nullable = true)\n",
            " |-- Actor2Geo_Long: double (nullable = true)\n",
            " |-- Actor2Geo_FeatureID: string (nullable = true)\n",
            " |-- ActionGeo_Type: integer (nullable = true)\n",
            " |-- ActionGeo_FullName: string (nullable = true)\n",
            " |-- ActionGeo_CountryCode: string (nullable = true)\n",
            " |-- ActionGeo_ADM1Code: string (nullable = true)\n",
            " |-- ActionGeo_ADM2Code: string (nullable = true)\n",
            " |-- ActionGeo_Lat: double (nullable = true)\n",
            " |-- ActionGeo_Long: double (nullable = true)\n",
            " |-- ActionGeo_FeatureID: string (nullable = true)\n",
            " |-- DATEADDED: long (nullable = true)\n",
            " |-- SOURCEURL: string (nullable = true)\n",
            " |-- CAMEO_Code: string (nullable = true)\n",
            " |-- Country/Territory: string (nullable = true)\n",
            " |-- Status: string (nullable = true)\n",
            " |-- Total: integer (nullable = true)\n",
            " |-- Dom/Int: string (nullable = false)\n",
            " |-- NewsOutletCountry: string (nullable = true)\n",
            "\n"
          ]
        }
      ]
    },
    {
      "cell_type": "code",
      "source": [
        "# removing unique column e.g. IDs which therefore wont contribute to predicting power\n",
        "\n",
        "cleaned_data = cleaned_data.drop('GLOBALEVENTID', 'SOURCEURL')\n"
      ],
      "metadata": {
        "id": "DoTs-L3l2KtH"
      },
      "execution_count": 20,
      "outputs": []
    },
    {
      "cell_type": "markdown",
      "source": [
        "# 10 Exploratory Data Analysis\n",
        "\n",
        "For our EDA we start by looking at the distributions of the numerical columns."
      ],
      "metadata": {
        "id": "2hKtLg-p1jj9"
      }
    },
    {
      "cell_type": "code",
      "source": [
        "\n",
        "class EDAAnalyzer:\n",
        "    def __init__(self, data):\n",
        "\n",
        "        self.data = data\n",
        "\n",
        "    def plot_histograms(self, numerical_columns):\n",
        "        import matplotlib.pyplot as plt\n",
        "\n",
        "        for col_name in numerical_columns:\n",
        "            # Get the data for the column\n",
        "            data = self.data.select(col_name).rdd.flatMap(lambda x: x).collect()\n",
        "            plt.hist(data, bins=20, edgecolor='black')\n",
        "            plt.title(f'Histogram of {col_name}')\n",
        "            plt.xlabel(col_name)\n",
        "            plt.ylabel('Frequency')\n",
        "            plt.grid(axis='y')\n",
        "            plt.show()\n",
        "\n",
        "    def plot_scatter_plots(self, scatter_plot_pairs):\n",
        "        import matplotlib.pyplot as plt\n",
        "\n",
        "        for col_name1, col_name2 in scatter_plot_pairs:\n",
        "            # Get the data for the columns\n",
        "            data = self.data.select(col_name1, col_name2).rdd.map(lambda x: (x[0], x[1])).collect()\n",
        "\n",
        "            # Separate the data into two lists: one for each column\n",
        "            x_data = [x[0] for x in data]\n",
        "            y_data = [x[1] for x in data]\n",
        "\n",
        "            plt.scatter(x_data, y_data, alpha=0.5)\n",
        "            plt.title(f'Scatter plot of {col_name1} and {col_name2}')\n",
        "            plt.xlabel(col_name1)\n",
        "            plt.ylabel(col_name2)\n",
        "            plt.grid(True)\n",
        "            plt.show()\n",
        "\n",
        "    def plot_bar_charts(self, categorical_columns):\n",
        "        import matplotlib.pyplot as plt\n",
        "\n",
        "        for col_name in categorical_columns:\n",
        "            # Define the number of categories to display\n",
        "            top_n = 10 if col_name == 'EventCode' else 25 if col_name in ['CAMEO_Code', 'NewsOutletCountry'] else len(self.data.select(col_name).distinct().rdd.map(lambda x: x[0]).collect())\n",
        "\n",
        "            # Get the data for the column\n",
        "            data = self.data.groupBy(col_name).count().orderBy(desc('count')).limit(top_n).rdd.map(lambda x: (x[0], x[1])).collect()\n",
        "\n",
        "            # Separate the data into two lists: one for each column\n",
        "            x_data = [x[0] for x in data]\n",
        "            y_data = [x[1] for x in data]\n",
        "\n",
        "            plt.bar(x_data, y_data)\n",
        "            plt.title(f'Bar plot of {col_name}')\n",
        "            plt.xlabel(col_name)\n",
        "            plt.ylabel('Count')\n",
        "            plt.grid(axis='y')\n",
        "            plt.xticks(rotation=90)  # Rotate x labels for better visibility\n",
        "            plt.show()\n",
        "\n",
        "# Usage\n",
        "eda_analyzer = EDAAnalyzer(cleaned_data)\n",
        "\n",
        "# Call methods to perform EDA\n",
        "eda_analyzer.plot_histograms(['GoldsteinScale', 'NumMentions', 'NumSources', 'NumArticles', 'AvgTone'])\n",
        "eda_analyzer.plot_scatter_plots([('GoldsteinScale', 'AvgTone'), ('AvgTone', 'NumMentions')])\n",
        "eda_analyzer.plot_bar_charts(['IsRootEvent', 'EventCode', 'CAMEO_Code', 'Dom/Int', 'NewsOutletCountry'])"
      ],
      "metadata": {
        "colab": {
          "base_uri": "https://localhost:8080/",
          "height": 1000
        },
        "id": "6LmmBql51kRl",
        "outputId": "d0f7f9d6-4234-4de5-f6ae-962954006435"
      },
      "execution_count": 23,
      "outputs": [
        {
          "output_type": "display_data",
          "data": {
            "text/plain": [
              "<Figure size 640x480 with 1 Axes>"
            ],
            "image/png": "[encoded data removed]"
          },
          "metadata": {}
        },
        {
          "output_type": "display_data",
          "data": {
            "text/plain": [
              "<Figure size 640x480 with 1 Axes>"
            ],
            "image/png": "[encoded data removed]"
          },
          "metadata": {}
        },
        {
          "output_type": "display_data",
          "data": {
            "text/plain": [
              "<Figure size 640x480 with 1 Axes>"
            ],
            "image/png": "[encoded data removed]"
          },
          "metadata": {}
        },
        {
          "output_type": "display_data",
          "data": {
            "text/plain": [
              "<Figure size 640x480 with 1 Axes>"
            ],
            "image/png": "[encoded data removed]"
          },
          "metadata": {}
        },
        {
          "output_type": "display_data",
          "data": {
            "text/plain": [
              "<Figure size 640x480 with 1 Axes>"
            ],
            "image/png": "[encoded data removed]"
          },
          "metadata": {}
        },
        {
          "output_type": "display_data",
          "data": {
            "text/plain": [
              "<Figure size 640x480 with 1 Axes>"
            ],
            "image/png": "[encoded data removed]"
          },
          "metadata": {}
        },
        {
          "output_type": "display_data",
          "data": {
            "text/plain": [
              "<Figure size 640x480 with 1 Axes>"
            ],
            "image/png": "[encoded data removed]"
          },
          "metadata": {}
        },
        {
          "output_type": "display_data",
          "data": {
            "text/plain": [
              "<Figure size 640x480 with 1 Axes>"
            ],
            "image/png": "[encoded data removed]"
          },
          "metadata": {}
        },
        {
          "output_type": "display_data",
          "data": {
            "text/plain": [
              "<Figure size 640x480 with 1 Axes>"
            ],
            "image/png": "[encoded data removed]"
          },
          "metadata": {}
        },
        {
          "output_type": "display_data",
          "data": {
            "text/plain": [
              "<Figure size 640x480 with 1 Axes>"
            ],
            "image/png": "[encoded data removed]"
          },
          "metadata": {}
        },
        {
          "output_type": "display_data",
          "data": {
            "text/plain": [
              "<Figure size 640x480 with 1 Axes>"
            ],
            "image/png": "[encoded data removed]"
          },
          "metadata": {}
        },
        {
          "output_type": "display_data",
          "data": {
            "text/plain": [
              "<Figure size 640x480 with 1 Axes>"
            ],
            "image/png": "[encoded data removed]"
          },
          "metadata": {}
        }
      ]
    },
    {
      "cell_type": "markdown",
      "source": [
        "## Evaluation of above results.\n",
        "\n",
        "The Goldtein Scale is a measure of conflictual vs cooperative nature of the interactions between countries [3]. We can see that the Goldstein scale looks fairly Normally distributed with a slight positive skew and a sharp increase of values with a score of -10. This could show that slightly more events seem cooperative rather than  conflicting however there is a surge of events which are highly conflictual.\n",
        "\n",
        "This histogram shows that most events have a low number of mentions, forming a right skewed distribution. It indicates that a majority of the events are not widely covered or mentioned in the media.\n",
        "\n",
        "Similar to the \"NumMentions\" column, the \"NumSources\" column also exhibits a right-skewed distribution, indicating that most events are reported by a small number of sources.\n",
        "\n",
        "The distribution of the \"NumArticles\" column resembles those of \"NumMentions\" and \"NumSources\", indicating that most events are covered in a small number of articles, depicting a scenario where a few events dominate the media coverage.\n",
        "\n",
        "The next interesting graph is the histogram of AvgTone. This shows a normally distributed graph however centered around about -2.5. This suggests that the norm for articles is to have a slightly negative sentiment.\n",
        "\n",
        "The scatter plot doesnt show a correlation between the Goldstein Scale and the average tone of the articles. This suggests that events with a higher Goldstein Scale score (more positive events) do not necessarilty mean they are covered in a more positive tone.\n",
        "\n",
        "This scatter plot does not show a clear trend between the average tone and the number of mentions. This suggests that there isn't a straightforward relationship between how positive or negative an article is and how many times it is mentioned.\n"
      ],
      "metadata": {
        "id": "NdFyKNL1GKDP"
      }
    },
    {
      "cell_type": "markdown",
      "source": [
        "### Evaluation\n",
        "We can see that many of the news outlets present in out data are from Russia, Greece and the UAE. It is important to remember this when reviewing our model as this could influence the results."
      ],
      "metadata": {
        "id": "vowT-tZ2NCky"
      }
    },
    {
      "cell_type": "markdown",
      "metadata": {
        "id": "JsdT4PHxepkk"
      },
      "source": [
        "# 11 Encoding Categorical variables\n",
        "\n",
        "In order to correctly process the data for machine learning, we neeed to One Hot Encode our categorical variables."
      ]
    },
    {
      "cell_type": "code",
      "execution_count": null,
      "metadata": {
        "id": "xwRTFO5eepkk"
      },
      "outputs": [],
      "source": [
        "class CategoricalEncoder:\n",
        "    def __init__(self, data):\n",
        "        self.data = data\n",
        "\n",
        "    def encode_categorical_variables(self, categorical_columns):\n",
        "        # Get the number of distinct values in each column\n",
        "        distinct_counts = self.data.agg(*(countDistinct(col(c)).alias(c) for c in categorical_columns)).collect()[0]\n",
        "\n",
        "        # Get columns with at least two distinct values\n",
        "        valid_columns = [\n",
        "            col for col, count in zip(categorical_columns, distinct_counts)\n",
        "            if count >= 2\n",
        "        ]\n",
        "\n",
        "        # Initialize the StringIndexer and OneHotEncoder\n",
        "        indexers = [StringIndexer(inputCol=col, outputCol=col + \"_index\", handleInvalid=\"keep\") for col in valid_columns]\n",
        "        encoders = [OneHotEncoder(inputCol=col + \"_index\", outputCol=col + \"_encoded\") for col in valid_columns]\n",
        "\n",
        "        # Set up the pipeline\n",
        "        stages = []\n",
        "        stages.extend(indexers)\n",
        "        stages.extend(encoders)\n",
        "\n",
        "        pipeline = Pipeline(stages=stages)\n",
        "\n",
        "        # Apply the pipeline to data\n",
        "        encoded_data = pipeline.fit(self.data).transform(self.data)\n",
        "\n",
        "        return encoded_data\n",
        "\n",
        "# Usage\n",
        "encoder = CategoricalEncoder(cleaned_data)\n",
        "categorical_columns = [\n",
        "    \"Actor1Code\", \"Actor2Code\",\n",
        "    \"Actor1CountryCode\", \"Actor2CountryCode\",\n",
        "    \"EventCode\", \"EventBaseCode\", \"EventRootCode\",\n",
        "    \"QuadClass\",\n",
        "    \"Actor1Geo_Type\", \"Actor2Geo_Type\", \"ActionGeo_Type\",\n",
        "    \"Actor1Geo_CountryCode\", \"Actor2Geo_CountryCode\",\n",
        "    \"Dom/Int\", \"Status\", \"CAMEO_Code\", \"NewsOutletCountry\"\n",
        "]\n",
        "\n",
        "encoded_data = encoder.encode_categorical_variables(categorical_columns)\n",
        "\n",
        "encoded_data.show(n=1, vertical=True)\n"
      ]
    },
    {
      "cell_type": "markdown",
      "metadata": {
        "id": "WQc9m0pHepkl"
      },
      "source": [
        "## interpreting the above\n",
        "These results of encoding are created using vectors within each encoded column as seen above. PySpark's MLlib can directly use these sparse vectors for training and prediction without needing to expand them into separate columns."
      ]
    },
    {
      "cell_type": "markdown",
      "metadata": {
        "id": "eAEHdJh3epkm"
      },
      "source": [
        "# 12 Feauture Scaling\n",
        "In order to bring the numerical features into a comparable range we decided to scale all teh numericl features using Standard Scaler. And, as with the categorical variables, used Vector assembler to add the results as sparse vectors into a single column."
      ]
    },
    {
      "cell_type": "code",
      "execution_count": null,
      "metadata": {
        "id": "SXoHvuHyepkm"
      },
      "outputs": [],
      "source": [
        "# List of numerical columns to be scaled\n",
        "numerical_columns = [\n",
        "    \"NumMentions\", \"NumSources\", \"NumArticles\",\n",
        "    \"GoldsteinScale\",\n",
        "    \"Actor1Geo_Lat\", \"Actor1Geo_Long\", \"Actor2Geo_Lat\", \"Actor2Geo_Long\", \"ActionGeo_Lat\", \"ActionGeo_Long\",\n",
        "    \"Total\",\n",
        "    \"IsRootEvent\",\n",
        "    \"Year\", \"MonthYear\", \"SQLDATE\", \"FractionDate\"\n",
        "    ]"
      ]
    },
    {
      "cell_type": "code",
      "execution_count": null,
      "metadata": {
        "colab": {
          "base_uri": "https://localhost:8080/"
        },
        "id": "EF47q5H3epkm",
        "outputId": "b481b0fd-67e2-4204-c59e-6c7043a5ce36"
      },
      "outputs": [
        {
          "output_type": "stream",
          "name": "stdout",
          "text": [
            "-RECORD 0---------------------------------------------\n",
            " SQLDATE                       | 20150219             \n",
            " MonthYear                     | 201502               \n",
            " Year                          | 2015                 \n",
            " FractionDate                  | 2015.1342            \n",
            " Actor1Code                    | CZE                  \n",
            " Actor1Name                    | CZECH REPUBLIC       \n",
            " Actor1CountryCode             | CZE                  \n",
            " Actor2Code                    | JOR                  \n",
            " Actor2Name                    | JORDAN               \n",
            " Actor2CountryCode             | JOR                  \n",
            " IsRootEvent                   | 0                    \n",
            " EventCode                     | 20                   \n",
            " EventBaseCode                 | 20                   \n",
            " EventRootCode                 | 2                    \n",
            " QuadClass                     | 1                    \n",
            " GoldsteinScale                | 3.0                  \n",
            " NumMentions                   | 6                    \n",
            " NumSources                    | 1                    \n",
            " NumArticles                   | 6                    \n",
            " AvgTone                       | 1.84782608695652     \n",
            " Actor1Geo_Type                | 1                    \n",
            " Actor1Geo_FullName            | Czech Republic       \n",
            " Actor1Geo_CountryCode         | EZ                   \n",
            " Actor1Geo_ADM1Code            | EZ                   \n",
            " Actor1Geo_ADM2Code            | null                 \n",
            " Actor1Geo_Lat                 | 49.75                \n",
            " Actor1Geo_Long                | 15.5                 \n",
            " Actor1Geo_FeatureID           | EZ                   \n",
            " Actor2Geo_Type                | 1                    \n",
            " Actor2Geo_FullName            | Jordan               \n",
            " Actor2Geo_CountryCode         | JO                   \n",
            " Actor2Geo_ADM1Code            | JO                   \n",
            " Actor2Geo_ADM2Code            | null                 \n",
            " Actor2Geo_Lat                 | 31.0                 \n",
            " Actor2Geo_Long                | 36.0                 \n",
            " Actor2Geo_FeatureID           | JO                   \n",
            " ActionGeo_Type                | 1                    \n",
            " ActionGeo_FullName            | Jordan               \n",
            " ActionGeo_CountryCode         | JO                   \n",
            " ActionGeo_ADM1Code            | JO                   \n",
            " ActionGeo_ADM2Code            | null                 \n",
            " ActionGeo_Lat                 | 31.0                 \n",
            " ActionGeo_Long                | 36.0                 \n",
            " ActionGeo_FeatureID           | JO                   \n",
            " DATEADDED                     | 20150219040000       \n",
            " CAMEO_Code                    | CZE                  \n",
            " Country/Territory             | Czech Republic       \n",
            " Status                        | F                    \n",
            " Total                         | 95                   \n",
            " Dom/Int                       | International        \n",
            " NewsOutletCountry             | cz                   \n",
            " Actor1Code_index              | 51.0                 \n",
            " Actor2Code_index              | 89.0                 \n",
            " Actor1CountryCode_index       | 38.0                 \n",
            " Actor2CountryCode_index       | 69.0                 \n",
            " EventCode_index               | 5.0                  \n",
            " EventBaseCode_index           | 5.0                  \n",
            " EventRootCode_index           | 4.0                  \n",
            " QuadClass_index               | 0.0                  \n",
            " Actor1Geo_Type_index          | 0.0                  \n",
            " Actor2Geo_Type_index          | 0.0                  \n",
            " ActionGeo_Type_index          | 0.0                  \n",
            " Actor1Geo_CountryCode_index   | 35.0                 \n",
            " Actor2Geo_CountryCode_index   | 67.0                 \n",
            " Dom/Int_index                 | 0.0                  \n",
            " Status_index                  | 0.0                  \n",
            " CAMEO_Code_index              | 38.0                 \n",
            " NewsOutletCountry_index       | 14.0                 \n",
            " Actor1Code_encoded            | (1051,[51],[1.0])    \n",
            " Actor2Code_encoded            | (1176,[89],[1.0])    \n",
            " Actor1CountryCode_encoded     | (147,[38],[1.0])     \n",
            " Actor2CountryCode_encoded     | (190,[69],[1.0])     \n",
            " EventCode_encoded             | (187,[5],[1.0])      \n",
            " EventBaseCode_encoded         | (130,[5],[1.0])      \n",
            " EventRootCode_encoded         | (20,[4],[1.0])       \n",
            " QuadClass_encoded             | (4,[0],[1.0])        \n",
            " Actor1Geo_Type_encoded        | (5,[0],[1.0])        \n",
            " Actor2Geo_Type_encoded        | (5,[0],[1.0])        \n",
            " ActionGeo_Type_encoded        | (5,[0],[1.0])        \n",
            " Actor1Geo_CountryCode_encoded | (193,[35],[1.0])     \n",
            " Actor2Geo_CountryCode_encoded | (192,[67],[1.0])     \n",
            " Dom/Int_encoded               | (2,[0],[1.0])        \n",
            " Status_encoded                | (3,[0],[1.0])        \n",
            " CAMEO_Code_encoded            | (147,[38],[1.0])     \n",
            " NewsOutletCountry_encoded     | (103,[14],[1.0])     \n",
            " numerical_features            | [6.0,1.0,6.0,3.0,... \n",
            " scaled_features               | [0.21967268742594... \n",
            "only showing top 1 row\n",
            "\n"
          ]
        }
      ],
      "source": [
        "assembler = VectorAssembler(inputCols=numerical_columns, outputCol=\"numerical_features\", handleInvalid=\"keep\")\n",
        "\n",
        "# Initialising the StandardScaler\n",
        "scaler = StandardScaler(inputCol=\"numerical_features\", outputCol=\"scaled_features\", withMean=True, withStd=True)\n",
        "\n",
        "# Applying the VectorAssembler and the StandardScaler\n",
        "pipeline = Pipeline(stages=[assembler, scaler])\n",
        "\n",
        "# Pipeling applicaiton\n",
        "scaled_data = pipeline.fit(encoded_data).transform(encoded_data)\n",
        "\n",
        "scaled_data.show(n=1,vertical=True)\n",
        "\n"
      ]
    },
    {
      "cell_type": "code",
      "source": [
        "# droppinf the origional columns\n",
        "index_columns = [col + \"_index\" for col in valid_columns]\n",
        "columns_to_drop = categorical_columns + numerical_columns + index_columns\n",
        "\n",
        "\n",
        "# Drop the columns\n",
        "scaled_data = scaled_data.drop(*columns_to_drop)\n",
        "\n",
        "scaled_data.show(n=1,vertical=True)"
      ],
      "metadata": {
        "colab": {
          "base_uri": "https://localhost:8080/"
        },
        "id": "XFPu4QpdOJTn",
        "outputId": "82cb6618-9872-4be7-f5ab-6879ca9f00fd"
      },
      "execution_count": null,
      "outputs": [
        {
          "output_type": "stream",
          "name": "stdout",
          "text": [
            "-RECORD 0---------------------------------------------\n",
            " Actor1Name                    | CZECH REPUBLIC       \n",
            " Actor2Name                    | JORDAN               \n",
            " AvgTone                       | 1.84782608695652     \n",
            " Actor1Geo_FullName            | Czech Republic       \n",
            " Actor1Geo_ADM1Code            | EZ                   \n",
            " Actor1Geo_ADM2Code            | null                 \n",
            " Actor1Geo_FeatureID           | EZ                   \n",
            " Actor2Geo_FullName            | Jordan               \n",
            " Actor2Geo_ADM1Code            | JO                   \n",
            " Actor2Geo_ADM2Code            | null                 \n",
            " Actor2Geo_FeatureID           | JO                   \n",
            " ActionGeo_FullName            | Jordan               \n",
            " ActionGeo_CountryCode         | JO                   \n",
            " ActionGeo_ADM1Code            | JO                   \n",
            " ActionGeo_ADM2Code            | null                 \n",
            " ActionGeo_FeatureID           | JO                   \n",
            " DATEADDED                     | 20150219040000       \n",
            " Country/Territory             | Czech Republic       \n",
            " Actor1Code_encoded            | (1051,[51],[1.0])    \n",
            " Actor2Code_encoded            | (1176,[89],[1.0])    \n",
            " Actor1CountryCode_encoded     | (147,[38],[1.0])     \n",
            " Actor2CountryCode_encoded     | (190,[69],[1.0])     \n",
            " EventCode_encoded             | (187,[5],[1.0])      \n",
            " EventBaseCode_encoded         | (130,[5],[1.0])      \n",
            " EventRootCode_encoded         | (20,[4],[1.0])       \n",
            " QuadClass_encoded             | (4,[0],[1.0])        \n",
            " Actor1Geo_Type_encoded        | (5,[0],[1.0])        \n",
            " Actor2Geo_Type_encoded        | (5,[0],[1.0])        \n",
            " ActionGeo_Type_encoded        | (5,[0],[1.0])        \n",
            " Actor1Geo_CountryCode_encoded | (193,[35],[1.0])     \n",
            " Actor2Geo_CountryCode_encoded | (192,[67],[1.0])     \n",
            " Dom/Int_encoded               | (2,[0],[1.0])        \n",
            " Status_encoded                | (3,[0],[1.0])        \n",
            " CAMEO_Code_encoded            | (147,[38],[1.0])     \n",
            " NewsOutletCountry_encoded     | (103,[14],[1.0])     \n",
            " numerical_features            | [6.0,1.0,6.0,3.0,... \n",
            " scaled_features               | [0.21967268742594... \n",
            "only showing top 1 row\n",
            "\n"
          ]
        }
      ]
    },
    {
      "cell_type": "code",
      "execution_count": null,
      "metadata": {
        "colab": {
          "base_uri": "https://localhost:8080/"
        },
        "id": "Kd68ggYrepkn",
        "outputId": "f5c80afd-d71f-47bd-a53e-e1a004beb9c0"
      },
      "outputs": [
        {
          "output_type": "stream",
          "name": "stdout",
          "text": [
            "-RECORD 0---------------------------------------------\n",
            " Actor1Name                    | CZECH REPUBLIC       \n",
            " Actor2Name                    | JORDAN               \n",
            " AvgTone                       | 1.84782608695652     \n",
            " Actor1Geo_FullName            | Czech Republic       \n",
            " Actor1Geo_ADM1Code            | EZ                   \n",
            " Actor1Geo_ADM2Code            | null                 \n",
            " Actor1Geo_FeatureID           | EZ                   \n",
            " Actor2Geo_FullName            | Jordan               \n",
            " Actor2Geo_ADM1Code            | JO                   \n",
            " Actor2Geo_ADM2Code            | null                 \n",
            " Actor2Geo_FeatureID           | JO                   \n",
            " ActionGeo_FullName            | Jordan               \n",
            " ActionGeo_CountryCode         | JO                   \n",
            " ActionGeo_ADM1Code            | JO                   \n",
            " ActionGeo_ADM2Code            | null                 \n",
            " ActionGeo_FeatureID           | JO                   \n",
            " DATEADDED                     | 20150219040000       \n",
            " Country/Territory             | Czech Republic       \n",
            " Actor1Code_encoded            | (1051,[51],[1.0])    \n",
            " Actor2Code_encoded            | (1176,[89],[1.0])    \n",
            " Actor1CountryCode_encoded     | (147,[38],[1.0])     \n",
            " Actor2CountryCode_encoded     | (190,[69],[1.0])     \n",
            " EventCode_encoded             | (187,[5],[1.0])      \n",
            " EventBaseCode_encoded         | (130,[5],[1.0])      \n",
            " EventRootCode_encoded         | (20,[4],[1.0])       \n",
            " QuadClass_encoded             | (4,[0],[1.0])        \n",
            " Actor1Geo_Type_encoded        | (5,[0],[1.0])        \n",
            " Actor2Geo_Type_encoded        | (5,[0],[1.0])        \n",
            " ActionGeo_Type_encoded        | (5,[0],[1.0])        \n",
            " Actor1Geo_CountryCode_encoded | (193,[35],[1.0])     \n",
            " Actor2Geo_CountryCode_encoded | (192,[67],[1.0])     \n",
            " Dom/Int_encoded               | (2,[0],[1.0])        \n",
            " Status_encoded                | (3,[0],[1.0])        \n",
            " CAMEO_Code_encoded            | (147,[38],[1.0])     \n",
            " NewsOutletCountry_encoded     | (103,[14],[1.0])     \n",
            " numerical_features            | [6.0,1.0,6.0,3.0,... \n",
            " scaled_features               | [0.21967268742594... \n",
            " ML_features_use               | (3576,[51,1140,22... \n",
            "only showing top 1 row\n",
            "\n"
          ]
        }
      ],
      "source": [
        "# also dropping non vecotrised columns\n",
        "# List of one-hot encoded columns\n",
        "encoded_columns = [col + \"_encoded\" for col in valid_columns]\n",
        "\n",
        "# Add the scaled_features column to the list of columns to be assembled\n",
        "encoded_columns.append(\"scaled_features\")\n",
        "\n",
        "# Initialise the VectorAssembler\n",
        "final_assembler = VectorAssembler(inputCols=encoded_columns, outputCol=\"ML_features_use\", handleInvalid=\"keep\")\n",
        "\n",
        "# Create the final feature vector\n",
        "final_data = final_assembler.transform(scaled_data)\n",
        "\n",
        "final_data.show(n=1,vertical=True)\n",
        "\n"
      ]
    },
    {
      "cell_type": "markdown",
      "metadata": {
        "id": "sZDr6ZhDepkp"
      },
      "source": [
        "# 13 Feature Importance\n",
        "\n",
        "Due to the complex nature of the data and the limited computing power avaliable we decided to represent the target variable as a binary variable as follows:\n",
        "\n",
        "- 1: Represents events with a \"positive\" tone, where the AvgTone is greater than 0.\n",
        "- 0: Represents events with a \"negative or neutral\" tone, where the AvgTone is less than or equal to 0."
      ]
    },
    {
      "cell_type": "code",
      "execution_count": null,
      "metadata": {
        "colab": {
          "base_uri": "https://localhost:8080/"
        },
        "id": "2ea_2k2qepkq",
        "outputId": "2bff0fe7-dda3-47cd-bb80-0391d95bd7e4"
      },
      "outputs": [
        {
          "output_type": "stream",
          "name": "stdout",
          "text": [
            "+-----------------+--------------+\n",
            "|          AvgTone|AvgTone_binary|\n",
            "+-----------------+--------------+\n",
            "| 1.84782608695652|             1|\n",
            "|-1.73053152039555|             0|\n",
            "|-2.89575289575289|             0|\n",
            "| 0.40068689181454|             1|\n",
            "|-3.45911949685535|             0|\n",
            "|              5.0|             1|\n",
            "| 0.61295971978984|             1|\n",
            "|-2.74223034734918|             0|\n",
            "|-2.09424083769633|             0|\n",
            "|-5.84415584415584|             0|\n",
            "|-6.07594936708861|             0|\n",
            "|0.340136054421769|             1|\n",
            "|-3.11111111111112|             0|\n",
            "| 1.06382978723405|             1|\n",
            "| 1.92307692307693|             1|\n",
            "|-0.59880239520958|             0|\n",
            "| 0.65573770491803|             1|\n",
            "|-1.76174496644295|             0|\n",
            "|-4.21455938697318|             0|\n",
            "| 2.89855072463768|             1|\n",
            "+-----------------+--------------+\n",
            "only showing top 20 rows\n",
            "\n"
          ]
        }
      ],
      "source": [
        "# Create a binary column based on 'AvgTone'\n",
        "final_data = final_data.withColumn('AvgTone_binary',\n",
        "                                   when(final_data['AvgTone'] > 0, 1).otherwise(0))\n",
        "\n",
        "# Show a few rows to confirm that 'AvgTone_binary' has been created correctly\n",
        "final_data.select('AvgTone', 'AvgTone_binary').show()\n"
      ]
    },
    {
      "cell_type": "code",
      "source": [
        "# Keep only 'ML_features_use' and 'AvgTone_binary' columns\n",
        "final_data_ml = final_data.select('ML_features_use', 'AvgTone_binary')\n",
        "\n",
        "final_data_ml.show(n=2,vertical=True)\n"
      ],
      "metadata": {
        "colab": {
          "base_uri": "https://localhost:8080/"
        },
        "id": "3SlDszkyWPtY",
        "outputId": "aeedeacf-eb25-4860-e7dd-6225fe07d033"
      },
      "execution_count": null,
      "outputs": [
        {
          "output_type": "stream",
          "name": "stdout",
          "text": [
            "-RECORD 0-------------------------------\n",
            " ML_features_use | (3576,[51,1140,22... \n",
            " AvgTone_binary  | 1                    \n",
            "-RECORD 1-------------------------------\n",
            " ML_features_use | (3576,[1,1083,222... \n",
            " AvgTone_binary  | 0                    \n",
            "only showing top 2 rows\n",
            "\n"
          ]
        }
      ]
    },
    {
      "cell_type": "markdown",
      "source": [
        "# 14 Choosing a Machine Learning Algorithm\n",
        "\n",
        "1. **For Handling High-Dimensional Data**\n",
        "\n",
        "**Logistic Regression**: Logistic regression can be used in high-dimensional spaces, but it is a linear model and may not capture complex relationships in the data as effectively as other methods.\n",
        "\n",
        "**GBT**: GBT is good at capturing non-linear relationships between features, making it efficient for high-dimensional data where relationships between variables can be complex.\n",
        "\n",
        "\n",
        "2. **Avoiding Overfitting**\n",
        "**Logistic Regression**: LR can be prone to overfitting, especially with high-dimensional data\n",
        "\n",
        "**GBT**: GBT uses parameters to avoid overfitting.\n",
        "\n",
        "3. **Handling Categorical Data**\n",
        "\n",
        "**Logistic Regression**: Although it does not natively handling categorical data, given the preprocessing steps taken to encode these variables it should work well.\n",
        "\n",
        "**GBT**: same as Logistic Regression\n",
        "\n",
        "4. **Predictive Accuracy**\n",
        "Both logistic regression and GBT classifiers are known for their predictive accuracy. However, GBT, being an ensemble method, can often build more accurate models compared to logistic regression, especially when dealing with complex and high-dimensionality data.\n",
        "\n",
        "\n",
        "**Comparison with Other Models**\n",
        "\n",
        "\n",
        "While logistic regression is a simple and interpretable model, it may struggle with the high-dimensional and potentially non-linear data in our data.\n",
        "\n",
        "SVMs can handle high-dimensional data but are computationally expensive for large datasets.\n",
        "\n",
        "kNN is sensitive to the dimensionality of the data and so may not deal well with the high dimensionality of our data.\n",
        "\n",
        "Deep learning models can capture complex patterns but they require a large amount of data and lots of tuning to perform well. The tree-based ensemble methods might offer a good balance between complexity and predictive accuracy without needing this added complexity.\n",
        "\n",
        "We are going to use Logistic Regression as our base model and the GBT as our complex model to test.\n"
      ],
      "metadata": {
        "id": "SW_yua1Hx5LG"
      }
    },
    {
      "cell_type": "markdown",
      "metadata": {
        "id": "46SojeySepkx"
      },
      "source": [
        "\n",
        "\n",
        "# 15 Splitting the Data and Conducting Feature Importance\n",
        "\n",
        "Using the Random Forests Classifier in order to reduce the dimentionality of our data"
      ]
    },
    {
      "cell_type": "code",
      "execution_count": null,
      "metadata": {
        "colab": {
          "base_uri": "https://localhost:8080/"
        },
        "id": "pGRuThnvepkr",
        "outputId": "b80e90da-e7e8-4b90-d528-c4335d3dc83c"
      },
      "outputs": [
        {
          "output_type": "stream",
          "name": "stdout",
          "text": [
            "+--------------------+--------------------+\n",
            "|             feature|          importance|\n",
            "+--------------------+--------------------+\n",
            "|   Actor1Code_CANLAB|0.001042782071980405|\n",
            "|   Actor1Code_TURGOV|0.001650225466232...|\n",
            "|Actor1Code_USAGOVDEV|0.012255114476616489|\n",
            "|   Actor1Code_LTUGOV|                 0.0|\n",
            "|   Actor1Code_USAJUD|                 0.0|\n",
            "|      Actor1Code_POL|                 0.0|\n",
            "|   Actor1Code_SYRCHR|                 0.0|\n",
            "|      Actor1Code_LVA|                 0.0|\n",
            "|   Actor1Code_ESPBUS|                 0.0|\n",
            "|   Actor1Code_DEULAB|                 0.0|\n",
            "|   Actor1Code_MARCVL|                 0.0|\n",
            "|   Actor1Code_TWNPTY|0.001527847323923...|\n",
            "|   Actor1Code_TZAGOV|                 0.0|\n",
            "|      Actor1Code_BRA|                 0.0|\n",
            "|   Actor1Code_EGYOPP|                 0.0|\n",
            "|   Actor1Code_DEUMIL|                 0.0|\n",
            "|      Actor1Code_ARM|                 0.0|\n",
            "|   Actor1Code_USASPY|                 0.0|\n",
            "|   Actor1Code_SAUMED|                 0.0|\n",
            "|      Actor1Code_CUB|                 0.0|\n",
            "+--------------------+--------------------+\n",
            "only showing top 20 rows\n",
            "\n",
            "['Actor1Code_CANLAB', 'Actor1Code_TURGOV', 'Actor1Code_USAGOVDEV', 'Actor1Code_TWNPTY', 'Actor1Code_SOM', 'Actor1Code_CUBELI', 'Actor1Code_ITAGOVENV', 'Actor1Code_CMR', 'Actor1Code_CZEMED', 'Actor1Code_KWTGOV', 'Actor1Code_CHNOPP', 'Actor2Code_TURGOV', 'Actor2Code_ESTELI', 'Actor2Code_NER', 'Actor1CountryCode_ARM', 'Actor1CountryCode_CUB', 'Actor1CountryCode_SOM', 'Actor1CountryCode_URY', 'Actor1CountryCode_GTM', 'Actor1CountryCode_QAT', 'Actor1CountryCode_MNG', 'Actor1CountryCode_FIN', 'Actor1CountryCode_BDI', 'Actor1CountryCode_CHN', 'Actor2CountryCode_PSE', 'Actor2CountryCode_FRA', 'Actor2CountryCode_SOM', 'Actor2CountryCode_URY', 'Actor2CountryCode_HRV', 'Actor2CountryCode_PRY', 'EventCode_833', 'EventCode_85', 'EventCode_193', 'EventCode_1243', 'EventCode_26', 'EventCode_332', 'EventCode_831', 'EventCode_22', 'EventCode_1822', 'EventCode_23', 'EventBaseCode_85', 'EventBaseCode_128', 'EventBaseCode_57', 'EventBaseCode_120', 'EventRootCode_12', 'EventRootCode_13', 'EventRootCode_6', 'EventRootCode_3', 'EventRootCode_5', 'EventRootCode_17', 'QuadClass_1', 'QuadClass_3', 'Actor1Geo_Type_2', 'Actor1Geo_CountryCode_RO', 'Actor1Geo_CountryCode_SL', 'Actor1Geo_CountryCode_UV', 'Actor1Geo_CountryCode_SU', 'Actor1Geo_CountryCode_ID', 'Actor1Geo_CountryCode_MD', 'Actor1Geo_CountryCode_TN', 'Actor1Geo_CountryCode_KU', 'Actor1Geo_CountryCode_TH', 'Actor2Geo_CountryCode_RO', 'Actor2Geo_CountryCode_SL', 'Actor2Geo_CountryCode_NL', 'Actor2Geo_CountryCode_LA', 'Actor2Geo_CountryCode_MK', 'Actor2Geo_CountryCode_BX', 'Actor2Geo_CountryCode_AU', 'Actor2Geo_CountryCode_DA', 'Dom/Int_International', 'Status_PF', 'CAMEO_Code_POL', 'CAMEO_Code_CUB', 'CAMEO_Code_JOR', 'CAMEO_Code_PRY', 'CAMEO_Code_UGA', 'CAMEO_Code_SVK', 'CAMEO_Code_IRQ', 'CAMEO_Code_PRT', 'CAMEO_Code_KHM', 'NewsOutletCountry_ge', 'NewsOutletCountry_cl', 'NewsOutletCountry_uz', 'NewsOutletCountry_pk', 'NewsOutletCountry_hu', 'NewsOutletCountry_mn', 'NumMentions', 'GoldsteinScale', 'Actor1Geo_Lat', 'Actor2Geo_Lat', 'Actor2Geo_Long', 'ActionGeo_Lat', 'ActionGeo_Long', 'Total', 'IsRootEvent', 'Year', 'MonthYear', 'SQLDATE']\n"
          ]
        }
      ],
      "source": [
        "# split the data into training and testing sets\n",
        "train_data, test_data = final_data_ml.randomSplit([0.8, 0.2], seed=1234)\n",
        "\n",
        "feature_names = []\n",
        "\n",
        "# Add the names of encoded categorical features\n",
        "for col in valid_columns:\n",
        "    for category in cleaned_data.select(col).distinct().rdd.map(lambda r: r[0]).collect():\n",
        "        feature_names.append(f\"{col}_{category}\")\n",
        "\n",
        "# Add the names of the scaled features\n",
        "feature_names.extend(numerical_columns)\n",
        "\n",
        "# Initialise and train the random forest classifier\n",
        "rf = RandomForestClassifier(featuresCol=\"ML_features_use\", labelCol=\"AvgTone_binary\")\n",
        "rf_model = rf.fit(train_data)\n",
        "\n",
        "# Get feature importances\n",
        "importances = rf_model.featureImportances.toArray()  # Convert sparse vector to dense array\n",
        "\n",
        "# Create a list of Row objects with feature names and their importances\n",
        "feature_importance_list = [Row(feature=feature_names[i], importance=float(importances[i])) for i in range(len(feature_names))]\n",
        "\n",
        "# Create a PySpark DataFrame from the list of Row objects\n",
        "feature_importance_df = spark.createDataFrame(feature_importance_list)\n",
        "\n",
        "# Show the DataFrame\n",
        "feature_importance_df.show()\n",
        "\n",
        "#  Identify important features to keep\n",
        "threshold = 0.001\n",
        "\n",
        "# Collect the data from the DataFrame into a list of rows\n",
        "feature_importances_rows = feature_importance_df.collect()\n",
        "\n",
        "important_features = [row['feature'] for row in feature_importances_rows if row['importance'] >= threshold]\n",
        "\n",
        "print(important_features)\n"
      ]
    },
    {
      "cell_type": "markdown",
      "metadata": {
        "id": "wyB5lZQGepks"
      },
      "source": [
        "# 16 Principle component analysis\n",
        "\n",
        "To further reduce dimentionality we decided to then conduct principle component analysis to only keep the top 30 features."
      ]
    },
    {
      "cell_type": "code",
      "execution_count": null,
      "metadata": {
        "colab": {
          "base_uri": "https://localhost:8080/"
        },
        "id": "wWL8lt3cepks",
        "outputId": "8edf306f-a988-4111-80ac-bff374cd65a0"
      },
      "outputs": [
        {
          "output_type": "stream",
          "name": "stdout",
          "text": [
            "['ActionGeo_Long', 'QuadClass_1', 'CAMEO_Code_UGA', 'GoldsteinScale', 'EventBaseCode_128', 'EventRootCode_13', 'Actor1Geo_CountryCode_RO', 'NewsOutletCountry_pk', 'QuadClass_3', 'EventRootCode_12', 'Actor2Geo_CountryCode_RO', 'Actor2CountryCode_PRY', 'Actor1CountryCode_CUB', 'Actor1Code_ITAGOVENV', 'EventRootCode_6', 'IsRootEvent', 'Actor1Code_CUBELI', 'CAMEO_Code_CUB', 'EventCode_831', 'SQLDATE', 'Actor2CountryCode_FRA', 'Actor1Code_SOM', 'CAMEO_Code_POL', 'Actor1Code_USAGOVDEV', 'Actor1CountryCode_SOM', 'EventCode_193', 'EventCode_26', 'Actor2Geo_Long', 'Actor2Code_TURGOV', 'Actor1Geo_Lat']\n",
            "-RECORD 0---------------------------------------\n",
            " AvgTone_binary           | 1                   \n",
            " ActionGeo_Long           | 0.11565103959042122 \n",
            " QuadClass_1              | 1.0                 \n",
            " CAMEO_Code_UGA           | 0.0                 \n",
            " GoldsteinScale           | 0.438796723752721   \n",
            " EventBaseCode_128        | 0.0                 \n",
            " EventRootCode_13         | 0.0                 \n",
            " Actor1Geo_CountryCode_RO | 0.0                 \n",
            " NewsOutletCountry_pk     | 0.0                 \n",
            " QuadClass_3              | 0.0                 \n",
            " EventRootCode_12         | 0.0                 \n",
            " Actor2Geo_CountryCode_RO | 0.0                 \n",
            " Actor2CountryCode_PRY    | 0.0                 \n",
            " Actor1CountryCode_CUB    | 0.0                 \n",
            " Actor1Code_ITAGOVENV     | 0.0                 \n",
            " EventRootCode_6          | 0.0                 \n",
            " IsRootEvent              | -1.59427057671832   \n",
            " Actor1Code_CUBELI        | 0.0                 \n",
            " CAMEO_Code_CUB           | 0.0                 \n",
            " EventCode_831            | 0.0                 \n",
            " SQLDATE                  | -0.7906967276391862 \n",
            " Actor2CountryCode_FRA    | 0.0                 \n",
            " Actor1Code_SOM           | 0.0                 \n",
            " CAMEO_Code_POL           | 0.0                 \n",
            " Actor1Code_USAGOVDEV     | 0.0                 \n",
            " Actor1CountryCode_SOM    | 0.0                 \n",
            " EventCode_193            | 0.0                 \n",
            " EventCode_26             | 0.0                 \n",
            " Actor2Geo_Long           | 0.12736873655642209 \n",
            " Actor2Code_TURGOV        | 0.0                 \n",
            " Actor1Geo_Lat            | 0.6761691008127301  \n",
            "only showing top 1 row\n",
            "\n"
          ]
        }
      ],
      "source": [
        "from pyspark.sql.functions import col\n",
        "\n",
        "# Sort the features based on their importance and get the top 30\n",
        "top_30_features = feature_importance_df.orderBy('importance', ascending=False).limit(30).select('feature').rdd.flatMap(lambda x: x).collect()\n",
        "\n",
        "print(top_30_features)\n",
        "\n",
        "# Convert the feature vector to an array of individual features\n",
        "final_data_ml = final_data_ml.withColumn(\"feature_array\", vector_to_array(\"ML_features_use\"))\n",
        "\n",
        "# Get the indices of the top 30 features\n",
        "top_30_feature_indices = [feature_names.index(feature) for feature in top_30_features]\n",
        "\n",
        "# Select the top 30 features from the feature array\n",
        "for i, feature in enumerate(top_30_features):\n",
        "    final_data_ml = final_data_ml.withColumn(feature, col(\"feature_array\")[top_30_feature_indices[i]])\n",
        "\n",
        "\n",
        "# Drop the feature array column as we no longer need it\n",
        "final_data = final_data_ml.drop(\"feature_array\")\n",
        "\n",
        "# Drop the ML_features_use column as we no longer need it\n",
        "final_data = final_data.drop(\"ML_features_use\")\n",
        "\n",
        "\n",
        "# Show the new DataFrame\n",
        "final_data.show(n=1,vertical=True)\n"
      ]
    },
    {
      "cell_type": "markdown",
      "metadata": {
        "id": "pDycA5k0epkx"
      },
      "source": [
        "# We experimented below with changing the K value\n",
        "\n",
        "(number of principle compnents) and seeing how the percentage of explained varience changed as a result. This showed that even 20 PCs explained over 90% of the varience"
      ]
    },
    {
      "cell_type": "code",
      "execution_count": null,
      "metadata": {
        "id": "UAQlfEynepkx"
      },
      "outputs": [],
      "source": []
    },
    {
      "cell_type": "code",
      "execution_count": null,
      "metadata": {
        "colab": {
          "base_uri": "https://localhost:8080/"
        },
        "id": "G2yA0CCkepky",
        "outputId": "bd2a6603-389e-47b2-f995-615f4c4eda41"
      },
      "outputs": [
        {
          "output_type": "stream",
          "name": "stdout",
          "text": [
            "[0.24031436736206224,0.16385309333518555,0.14021480006664128,0.13276411714310096,0.12999969163268096,0.03390096635287506,0.032195019217596266,0.019194169301128036,0.017064154386672144,0.014502603455839754,0.013496231555130068,0.010167823858626423,0.008230758466493317,0.007417789372560059,0.006549697093861306,0.005170837870429904,0.004121529359908098,0.004003627558428367,0.0038900646299721204,0.0033399774192205633]\n"
          ]
        }
      ],
      "source": [
        "# Split the data into training and testing sets\n",
        "train_data, test_data = final_data.randomSplit([0.8, 0.2], seed=1234)\n",
        "\n",
        "# Get the names of feature columns\n",
        "feature_columns = top_30_features\n",
        "\n",
        "# Use VectorAssembler to combine all feature columns into a single feature vector\n",
        "assembler = VectorAssembler(inputCols=feature_columns, outputCol=\"features_to_train\")\n",
        "train_data = assembler.transform(train_data)\n",
        "\n",
        "# PCA\n",
        "pca = PCA(k=20, inputCol=\"features_to_train\", outputCol=\"PCA_features\")\n",
        "pca_model = pca.fit(train_data)\n",
        "train_data_pca = pca_model.transform(train_data)\n",
        "\n",
        "# Get the explained variance of each principal component\n",
        "explained_var = pca_model.explainedVariance\n",
        "print(explained_var)\n"
      ]
    },
    {
      "cell_type": "code",
      "execution_count": null,
      "metadata": {
        "id": "e3ZxCJKxepky"
      },
      "outputs": [],
      "source": [
        "# Use VectorAssembler to combine all feature columns into a single feature vector for the test data\n",
        "test_data = assembler.transform(test_data)\n",
        "\n",
        "# Apply the PCA transformation to the test data\n",
        "test_data_pca = pca_model.transform(test_data)\n"
      ]
    },
    {
      "cell_type": "markdown",
      "source": [
        "# 17 Training the Logistic regression binary classifier"
      ],
      "metadata": {
        "id": "pBS7Mee6-CLa"
      }
    },
    {
      "cell_type": "code",
      "execution_count": null,
      "metadata": {
        "colab": {
          "base_uri": "https://localhost:8080/"
        },
        "id": "ujTuboOrepkz",
        "outputId": "6724e02f-9918-48ef-b078-2361de72b71e"
      },
      "outputs": [
        {
          "output_type": "stream",
          "name": "stdout",
          "text": [
            "Logistic Regression Test AUC: 0.7303384623395559\n"
          ]
        }
      ],
      "source": [
        "# Train the logistic regression model\n",
        "lr = LogisticRegression(featuresCol=\"PCA_features\", labelCol=\"AvgTone_binary\")\n",
        "lr_model = lr.fit(train_data_pca)\n",
        "\n",
        "# prediction on test data\n",
        "test_results_lr = lr_model.transform(test_data_pca)\n",
        "\n",
        "# Evaluate using BinaryClassificationEvaluator\n",
        "evaluator_lr = BinaryClassificationEvaluator(labelCol=\"AvgTone_binary\", metricName=\"areaUnderROC\")\n",
        "\n",
        "# Calculate and print the AUC\n",
        "test_auc_lr = evaluator_lr.evaluate(test_results_lr)\n",
        "print(f'Logistic Regression Test AUC: {test_auc_lr}')\n"
      ]
    },
    {
      "cell_type": "code",
      "source": [
        "\n",
        "train_data_pca.printSchema()\n",
        "\n"
      ],
      "metadata": {
        "colab": {
          "base_uri": "https://localhost:8080/"
        },
        "id": "AXwpoSbHELCf",
        "outputId": "b39b03b7-8522-4afe-92a5-cf3cf9e39d8e"
      },
      "execution_count": null,
      "outputs": [
        {
          "output_type": "stream",
          "name": "stdout",
          "text": [
            "root\n",
            " |-- AvgTone_binary: integer (nullable = false)\n",
            " |-- ActionGeo_Long: double (nullable = true)\n",
            " |-- QuadClass_1: double (nullable = true)\n",
            " |-- CAMEO_Code_UGA: double (nullable = true)\n",
            " |-- GoldsteinScale: double (nullable = true)\n",
            " |-- EventBaseCode_128: double (nullable = true)\n",
            " |-- EventRootCode_13: double (nullable = true)\n",
            " |-- Actor1Geo_CountryCode_RO: double (nullable = true)\n",
            " |-- NewsOutletCountry_pk: double (nullable = true)\n",
            " |-- QuadClass_3: double (nullable = true)\n",
            " |-- EventRootCode_12: double (nullable = true)\n",
            " |-- Actor2Geo_CountryCode_RO: double (nullable = true)\n",
            " |-- Actor2CountryCode_PRY: double (nullable = true)\n",
            " |-- Actor1CountryCode_CUB: double (nullable = true)\n",
            " |-- Actor1Code_ITAGOVENV: double (nullable = true)\n",
            " |-- EventRootCode_6: double (nullable = true)\n",
            " |-- IsRootEvent: double (nullable = true)\n",
            " |-- Actor1Code_CUBELI: double (nullable = true)\n",
            " |-- CAMEO_Code_CUB: double (nullable = true)\n",
            " |-- EventCode_831: double (nullable = true)\n",
            " |-- SQLDATE: double (nullable = true)\n",
            " |-- Actor2CountryCode_FRA: double (nullable = true)\n",
            " |-- Actor1Code_SOM: double (nullable = true)\n",
            " |-- CAMEO_Code_POL: double (nullable = true)\n",
            " |-- Actor1Code_USAGOVDEV: double (nullable = true)\n",
            " |-- Actor1CountryCode_SOM: double (nullable = true)\n",
            " |-- EventCode_193: double (nullable = true)\n",
            " |-- EventCode_26: double (nullable = true)\n",
            " |-- Actor2Geo_Long: double (nullable = true)\n",
            " |-- Actor2Code_TURGOV: double (nullable = true)\n",
            " |-- Actor1Geo_Lat: double (nullable = true)\n",
            " |-- features_to_train: vector (nullable = true)\n",
            " |-- PCA_features: vector (nullable = true)\n",
            "\n"
          ]
        }
      ]
    },
    {
      "cell_type": "markdown",
      "source": [
        "# Tuning the Logistic regression model\n",
        "\n"
      ],
      "metadata": {
        "id": "zw-0ZOks_Nj9"
      }
    },
    {
      "cell_type": "code",
      "execution_count": null,
      "metadata": {
        "colab": {
          "base_uri": "https://localhost:8080/"
        },
        "id": "3aemyGpUepk0",
        "outputId": "52feb08a-e4f0-4868-a285-bf5e3cf26396"
      },
      "outputs": [
        {
          "output_type": "stream",
          "name": "stdout",
          "text": [
            "Coefficients: [-0.028521306486918703,-0.5999755311531858,-0.1375609350949819,0.18272673388883987,-0.10309400208090652,0.22431919216819557,0.10605322197873678,0.5463759986370146,0.6884088953843734,0.03927907746564263,-0.4481169895273411,0.5061590510323096,0.0912149958400998,-0.20494542240547625,-0.12177533005124302,0.32282905893336694,0.7290393166560855,-0.36485550620747337,1.012436964182103,-0.2939682715094222]\n",
            "Intercept: -1.2991164810691644\n"
          ]
        }
      ],
      "source": [
        "# logistic regression\n",
        "lr = LogisticRegression(featuresCol='PCA_features', labelCol='AvgTone_binary')\n",
        "\n",
        "# Define a grid of hyperparameters to search over\n",
        "paramGrid = ParamGridBuilder() \\\n",
        "    .addGrid(lr.regParam, [0.1, 0.01]) \\\n",
        "    .addGrid(lr.fitIntercept, [False, True]) \\\n",
        "    .addGrid(lr.elasticNetParam, [0.0, 0.5, 1.0]) \\\n",
        "    .build()\n",
        "\n",
        "# Define cross-validation\n",
        "crossval = CrossValidator(estimator=lr,\n",
        "                          estimatorParamMaps=paramGrid,\n",
        "                          evaluator=BinaryClassificationEvaluator(labelCol='AvgTone_binary'),\n",
        "                          numFolds=3)  # Use 3+ folds in practice\n",
        "\n",
        "# Fit  model\n",
        "cvModel = crossval.fit(train_data_pca)\n",
        "\n",
        "# Get the best model\n",
        "best_model = cvModel.bestModel\n",
        "\n",
        "# Print the coefficients and intercept for logistic regression\n",
        "print(\"Coefficients: \" + str(best_model.coefficients))\n",
        "print(\"Intercept: \" + str(best_model.intercept))\n",
        "\n"
      ]
    },
    {
      "cell_type": "code",
      "execution_count": null,
      "metadata": {
        "colab": {
          "base_uri": "https://localhost:8080/"
        },
        "id": "jaKaM4tbepk0",
        "outputId": "67fff541-b434-4c33-875c-25a277a51660"
      },
      "outputs": [
        {
          "output_type": "stream",
          "name": "stdout",
          "text": [
            "Test AUC Logistic Regression: 0.7301546512536123\n",
            "+--------------+--------------------+--------------------+----------+\n",
            "|AvgTone_binary|       rawPrediction|         probability|prediction|\n",
            "+--------------+--------------------+--------------------+----------+\n",
            "|             0|[0.50658808554171...|[0.62400630211155...|       0.0|\n",
            "|             0|[2.01417844737461...|[0.88227770512845...|       0.0|\n",
            "|             0|[1.48864519358374...|[0.81587483646887...|       0.0|\n",
            "|             0|[1.41470403672889...|[0.80450683367098...|       0.0|\n",
            "|             0|[0.83519869699732...|[0.69745304355029...|       0.0|\n",
            "|             0|[0.85168246587026...|[0.70091995894620...|       0.0|\n",
            "|             0|[0.43305260604131...|[0.60660236649345...|       0.0|\n",
            "|             0|[0.32114336603647...|[0.57960287391306...|       0.0|\n",
            "|             0|[0.55424474768458...|[0.63511984303405...|       0.0|\n",
            "|             0|[-0.3264019330461...|[0.41911634494505...|       1.0|\n",
            "|             0|[0.42098059083815...|[0.60371787281266...|       0.0|\n",
            "|             0|[1.87250779277811...|[0.86674818340741...|       0.0|\n",
            "|             0|[1.73165890222966...|[0.84962448905943...|       0.0|\n",
            "|             0|[0.80592671816494...|[0.69124083408609...|       0.0|\n",
            "|             0|[0.85710247698511...|[0.70205492347648...|       0.0|\n",
            "|             0|[1.44788798551781...|[0.80967318007554...|       0.0|\n",
            "|             0|[1.66048643409458...|[0.84030329023904...|       0.0|\n",
            "|             0|[1.32418293969279...|[0.78987679686690...|       0.0|\n",
            "|             0|[0.01159718178413...|[0.50289926295149...|       0.0|\n",
            "|             0|[1.57336928784430...|[0.82826339655564...|       0.0|\n",
            "+--------------+--------------------+--------------------+----------+\n",
            "only showing top 20 rows\n",
            "\n"
          ]
        }
      ],
      "source": [
        "# Applying the best model on the test data\n",
        "test_results_reg = best_model.transform(test_data_pca)\n",
        "\n",
        "# Evaluating the model performance on the test data\n",
        "evaluator_reg = BinaryClassificationEvaluator(labelCol='AvgTone_binary')\n",
        "test_auc_reg = evaluator_reg.evaluate(test_results_reg)\n",
        "print(f'Test AUC Logistic Regression: {test_auc_reg}')\n",
        "\n",
        "# Showing some of the predictions\n",
        "test_results_reg.select('AvgTone_binary', 'rawPrediction', 'probability', 'prediction').show()\n"
      ]
    },
    {
      "cell_type": "code",
      "source": [
        "# Evaluate\n",
        "\n",
        "evaluator_reg = MulticlassClassificationEvaluator(labelCol=\"AvgTone_binary\")\n",
        "\n",
        "# Calculate and print various evaluation metrics\n",
        "accuracy_reg = evaluator_reg.evaluate(test_results_reg, {evaluator_reg.metricName: \"accuracy\"})\n",
        "precision_reg = evaluator_reg.evaluate(test_results_reg, {evaluator_reg.metricName: \"weightedPrecision\"})\n",
        "recall_reg = evaluator_reg.evaluate(test_results_reg, {evaluator_reg.metricName: \"weightedRecall\"})\n",
        "f1_score_reg = evaluator_reg.evaluate(test_results_reg, {evaluator_reg.metricName: \"f1\"})\n",
        "\n",
        "print(f'Tuned Logistic Regression Test Accuracy: {accuracy_reg * 100:.2f}%')\n",
        "print(f'Tuned Logistic Regression Test Precision: {precision_reg * 100:.2f}%')\n",
        "print(f'Tuned Logistic Regression Test Recall: {recall_reg * 100:.2f}%')\n",
        "print(f'Tuned Logistic Regression Test F1 Score: {f1_score_reg * 100:.2f}%')\n"
      ],
      "metadata": {
        "colab": {
          "base_uri": "https://localhost:8080/"
        },
        "id": "GOqr4YZeXoH0",
        "outputId": "c9c868be-68d3-44b6-a7be-8963770cafa1"
      },
      "execution_count": null,
      "outputs": [
        {
          "output_type": "stream",
          "name": "stdout",
          "text": [
            "Tuned Logistic Regression Test Accuracy: 73.29%\n",
            "Tuned Logistic Regression Test Precision: 70.53%\n",
            "Tuned Logistic Regression Test Recall: 73.29%\n",
            "Tuned Logistic Regression Test F1 Score: 67.78%\n"
          ]
        }
      ]
    },
    {
      "cell_type": "markdown",
      "source": [
        "# Evaluation of Logistic Regression\n",
        "\n",
        "Using the best run of the model demonstrated it satisfactory performance, with an AUC-ROC of approximately 72.8%, which indicates a good level of separability between the positive and negative news articles. The other evaluation metrics were:\n",
        "\n",
        "| Metric                                 | Value   |\n",
        "|----------------------------------------|---------|\n",
        "| **AUC-ROC**                            | 72.8%   |\n",
        "| **Accuracy**  | 73.04%  |\n",
        "| **Precision** | 70.58%  |\n",
        "| **Recall**    | 73.04%  |\n",
        "| **F1 Score**  | 66.21%  |\n"
      ],
      "metadata": {
        "id": "-NBnIlbyALf3"
      }
    },
    {
      "cell_type": "markdown",
      "source": [
        "# 18 Training the Gradient Boosted tree classifier\n",
        "\n",
        "Using grid search for Hyperparameter Tuning"
      ],
      "metadata": {
        "id": "ZAEhOYXeA5rw"
      }
    },
    {
      "cell_type": "code",
      "execution_count": null,
      "metadata": {
        "colab": {
          "base_uri": "https://localhost:8080/"
        },
        "id": "57hyTjU3epk0",
        "outputId": "6071a538-7760-43d1-8f3e-0f82e90ef2ad"
      },
      "outputs": [
        {
          "output_type": "stream",
          "name": "stdout",
          "text": [
            "Feature Importances: (20,[0,1,2,3,4,5,6,7,8,9,10,11,12,13,14,15,16,17,18,19],[0.08807356241624012,0.16035979700096528,0.061716917003406604,0.08743130860588104,0.03257879424159755,0.018212896617206206,0.029529187326491506,0.06475580983369422,0.03677219375960753,0.018845149943585795,0.07492773837890611,0.03243058867159976,0.010912785301343673,0.026913676596652888,0.029231690523617387,0.039375763431702356,0.027463175085260784,0.043829971014664064,0.08450669189670355,0.032132302350873554])\n"
          ]
        }
      ],
      "source": [
        "# Gradient-boosted tree classifier\n",
        "gbt = GBTClassifier(featuresCol='PCA_features', labelCol='AvgTone_binary')\n",
        "\n",
        "# Parameter grid for hyperparameter tuning\n",
        "paramGrid = ParamGridBuilder() \\\n",
        "    .addGrid(gbt.maxDepth, [2, 4, 6]) \\\n",
        "    .addGrid(gbt.maxIter, [10, 20]) \\\n",
        "    .build()\n",
        "\n",
        "# Cross-validation\n",
        "crossval = CrossValidator(estimator=gbt,\n",
        "                          estimatorParamMaps=paramGrid,\n",
        "                          evaluator=BinaryClassificationEvaluator(labelCol='AvgTone_binary'),\n",
        "                          numFolds=3)\n",
        "\n",
        "# Train the model using cross-validation\n",
        "cvModel_gbt = crossval.fit(train_data_pca)\n",
        "\n",
        "# Get the best model\n",
        "best_model_gbt = cvModel_gbt.bestModel\n",
        "\n",
        "# Print feature importances (useful for interpretation)\n",
        "print(\"Feature Importances: \" + str(best_model_gbt.featureImportances))\n",
        "\n",
        "# Apply the best model on the test data\n",
        "test_results = best_model_gbt.transform(test_data_pca)\n",
        "\n"
      ]
    },
    {
      "cell_type": "code",
      "execution_count": null,
      "metadata": {
        "id": "r1__6WNOepk1",
        "colab": {
          "base_uri": "https://localhost:8080/"
        },
        "outputId": "969e18fe-cbfc-481e-df2b-2995b906872a"
      },
      "outputs": [
        {
          "output_type": "stream",
          "name": "stdout",
          "text": [
            "GBT Test AUC: 0.7325073550469942\n"
          ]
        }
      ],
      "source": [
        "# Evaluate GBT\n",
        "evaluator_gbt = BinaryClassificationEvaluator(labelCol='AvgTone_binary')\n",
        "\n",
        "\n",
        "test_auc_gbt = evaluator_gbt.evaluate(test_results)\n",
        "print(f'GBT Test AUC: {test_auc_gbt}')\n",
        "\n"
      ]
    },
    {
      "cell_type": "code",
      "execution_count": null,
      "metadata": {
        "id": "iWQ1A1GJepk1",
        "colab": {
          "base_uri": "https://localhost:8080/"
        },
        "outputId": "2d97ff12-482c-430a-9bb0-54b0a6d17f83"
      },
      "outputs": [
        {
          "output_type": "stream",
          "name": "stdout",
          "text": [
            "Test Accuracy (GBT): 73.73%\n",
            "Precision (GBT): 71.05%\n",
            "Recall (GBT): 73.73%\n",
            "F1 Score (GBT): 69.78%\n"
          ]
        }
      ],
      "source": [
        "# accuracy\n",
        "evaluator_accuracy_gbt = MulticlassClassificationEvaluator(labelCol='AvgTone_binary', metricName='accuracy')\n",
        "\n",
        "# Precision\n",
        "evaluator_precision_gbt = MulticlassClassificationEvaluator(labelCol='AvgTone_binary', metricName='weightedPrecision')\n",
        "\n",
        "# Recall\n",
        "evaluator_recall_gbt = MulticlassClassificationEvaluator(labelCol='AvgTone_binary', metricName='weightedRecall')\n",
        "\n",
        "# F1-score\n",
        "evaluator_f1_gbt = MulticlassClassificationEvaluator(labelCol='AvgTone_binary', metricName='f1')\n",
        "\n",
        "# Apply the best model on the test data\n",
        "test_results_gbt = best_model_gbt.transform(test_data_pca)\n",
        "\n",
        "# Calculate and print the evaluation metrics\n",
        "accuracy_gbt = evaluator_accuracy_gbt.evaluate(test_results_gbt)\n",
        "precision_gbt = evaluator_precision_gbt.evaluate(test_results_gbt)\n",
        "recall_gbt = evaluator_recall_gbt.evaluate(test_results_gbt)\n",
        "f1_gbt = evaluator_f1_gbt.evaluate(test_results_gbt)\n",
        "\n",
        "print(f'Test Accuracy (GBT): {accuracy_gbt * 100:.2f}%')\n",
        "print(f'Precision (GBT): {precision_gbt * 100:.2f}%')\n",
        "print(f'Recall (GBT): {recall_gbt * 100:.2f}%')\n",
        "print(f'F1 Score (GBT): {f1_gbt * 100:.2f}%')\n"
      ]
    },
    {
      "cell_type": "markdown",
      "source": [
        "## Evaluation\n",
        "\n",
        "The metrics for the Boosted tree model were as follows:\n",
        "\n",
        "| Metric           | Value                |\n",
        "|------------------|----------------------|\n",
        "| AUC        | 72.68%               |\n",
        "| Accuracy   | 73.36%         |\n",
        "| Precision       | 70.71%        |\n",
        "| Recall          | 73.36%         |\n",
        "| F1 Score        | 67.77%         |\n"
      ],
      "metadata": {
        "id": "3fWwVVAtLDhi"
      }
    },
    {
      "cell_type": "code",
      "execution_count": null,
      "metadata": {
        "id": "wB61-iErepk1",
        "colab": {
          "base_uri": "https://localhost:8080/"
        },
        "outputId": "ae56a060-8589-40ed-98c7-844bc2dbdb98"
      },
      "outputs": [
        {
          "output_type": "stream",
          "name": "stdout",
          "text": [
            "The notebook took 4627.986178636551 seconds to run.\n"
          ]
        }
      ],
      "source": [
        "end_time = time.time()\n",
        "total_time = end_time - start_time\n",
        "print(f\"The notebook took {total_time} seconds to run.\")\n"
      ]
    },
    {
      "cell_type": "code",
      "execution_count": null,
      "metadata": {
        "id": "jz1qkEARepk1",
        "colab": {
          "base_uri": "https://localhost:8080/"
        },
        "outputId": "32ebe6dc-f8f4-424a-8fc4-c5ba8240dc05"
      },
      "outputs": [
        {
          "output_type": "stream",
          "name": "stdout",
          "text": [
            "CPU times: user 8.61 ms, sys: 2.35 ms, total: 11 ms\n",
            "Wall time: 3.99 s\n"
          ]
        }
      ],
      "source": [
        "%%time\n",
        "# Stop the SparkSession\n",
        "spark.stop()\n",
        "\n"
      ]
    },
    {
      "cell_type": "markdown",
      "source": [
        "# 19 Discussion and Conclusion\n",
        "\n",
        "In this project we aimed to design a predictive model to gauge the tonality of news articles based on a variety of parameters including the freedom status of a country and the entities that are discussed in the articles. Using the 'Big' dataset 'Events' from GDELT and Freedom House, the project functions effectively in a high-dimensional space and also reveals the potential correlations between a country's freedom status and the tone of the news articles produced.\n",
        "\n",
        "The preprocessing steps undertaken in PySpark showed careful data handling where the missing values were addressed effectively, and categorical variables were appropriately encoded. This meant we could create a data framework that could effectively train the predictive models. We managed to reduce dimensionality through Principal Component Analysis (PCA) while still keeping 95% of variability and  consequently we redcued computational power needed without a significant compromise on the data integrity.\n",
        "\n",
        "Using a Gradient Boosted Tree (GBT) classifier to build the predictive model combined the predictions from multiple decision trees to ensure incfreased predictive accuracy and mange any overfitting. However, the model's performance, as shown by the resulting AUC-ROC curve and other evaluation metrics accuracy, precision, recall, and F1-score, although not bad results in themselved, leaves room for further improvements. With an AUC of approximately 72.6% and accuracy slightly above 73%, the model demonstrates a moderate predictive power. The precision and recall metrics, both in the early 70s, could potentially be improved with further hyperparameter tuning or perhaps trying different machine learning algorithms e.g. neural netoworks that might be more suited for this kind of data.\n",
        "\n",
        "In the real world, this model can find applications in media companies and political analysis / governement analysis functions where understanding the tone of the news articles can provide insightful data into the geopolitical situations. For example, a positive correlation between a country's freedom score and the tone of articles could potentially indicate a level of press freedom and unbiased reporting. Conversely, a significant deviation could hint at possible media control or propaganda. An improved model could be a useful tool for Governemnts aiming to monitor media narratives and understand global perceptions and biases.\n",
        "\n",
        "In conclusion, we can see that the project has had some success in predicting the tone of news articles from the GDELT events and Freedom House data. The important preprocessing of data,  feature engineering and using machine learning model like GBT has shown that there is potential with this type of model. To improve the model in the future we recomment extending the dataset to include more variables, such as economic indicators or education levels which could potentially add more layers to the analysis. We also reccomend trying the data on increasinly large sets of the data to hopefully improve accuracy overall."
      ],
      "metadata": {
        "id": "JjHkKqm1N_Zp"
      }
    },
    {
      "cell_type": "markdown",
      "source": [
        "## References\n",
        "\n",
        "[1] Freedom House, Freedom Index (https://freedomhouse.org/countries/freedom-world/scores)\n",
        "\n",
        "[2] GDELT Data Website (https://www.gdeltproject.org/)\n",
        "\n",
        "[3] A Conflict-Cooperation Scale for WEIS Events Data (https://www.jstor.org/stable/174480)\n"
      ],
      "metadata": {
        "id": "XcNHtEfY6zIh"
      }
    }
  ],
  "metadata": {
    "kernelspec": {
      "display_name": "Python 3",
      "name": "python3"
    },
    "language_info": {
      "codemirror_mode": {
        "name": "ipython",
        "version": 3
      },
      "file_extension": ".py",
      "mimetype": "text/x-python",
      "name": "python",
      "nbconvert_exporter": "python",
      "pygments_lexer": "ipython3",
      "version": "3.9.2"
    },
    "colab": {
      "provenance": [],
      "machine_shape": "hm",
      "gpuType": "T4",
      "include_colab_link": true
    },
    "accelerator": "GPU"
  },
  "nbformat": 4,
  "nbformat_minor": 0
}